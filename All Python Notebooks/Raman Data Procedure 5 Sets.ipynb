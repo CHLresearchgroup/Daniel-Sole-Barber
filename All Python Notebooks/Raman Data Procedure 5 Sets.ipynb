{
 "cells": [
  {
   "cell_type": "code",
   "execution_count": 1,
   "metadata": {},
   "outputs": [],
   "source": [
    "import os\n",
    "import numpy\n",
    "import scipy.optimize as optimize\n",
    "import matplotlib.pyplot as plt\n",
    "from tkinter import *\n",
    "from tkinter import filedialog,messagebox,simpledialog"
   ]
  },
  {
   "cell_type": "code",
   "execution_count": 2,
   "metadata": {},
   "outputs": [],
   "source": [
    "# Code for file browsing from: https://www.codeproject.com/Questions/5259953/Python-tkinter-store-the-filepath-of-a-browsed-fil\n",
    "# Save file path for fetched ASCII files\n",
    "def file_path():\n",
    "        \n",
    "        global filepath\n",
    "        filepath = StringVar()\n",
    "        if(filepath == \"\"):\n",
    "            filepath = filedialog.askopenfilename(initialdir = os.getcwd(), title = \"select a file\", filetypes = [(\"txt files\", \"*.txt\")])\n",
    "        else:\n",
    "            filepath = filedialog.askopenfilename(initialdir=filepath, title = \"select a file\", filetypes = [(\"txt files\", \"*.txt\")])"
   ]
  },
  {
   "cell_type": "code",
   "execution_count": 3,
   "metadata": {},
   "outputs": [],
   "source": [
    "# Display selected file path\n",
    "def generate():\n",
    "        \n",
    "       #Validation of entry fields, if left empty.\n",
    "        if filepath == \"\":\n",
    "            messagebox.showinfo('Information','please browse')\n",
    "        else:\n",
    "            filepathlabel.config(text=filepath)"
   ]
  },
  {
   "cell_type": "code",
   "execution_count": 4,
   "metadata": {},
   "outputs": [],
   "source": [
    "# Save file path of desired folder for saving graphs\n",
    "def file_path2():\n",
    "        \n",
    "        global newfilepath\n",
    "        newfilepath = StringVar()\n",
    "        #Fetch the folder to which a document will be saved.\n",
    "        if(newfilepath == \"\"):\n",
    "            newfilepath = filedialog.askdirectory(initialdir = os.getcwd(), title = \"select a folder\")\n",
    "        else:\n",
    "            newfilepath = filedialog.askdirectory(initialdir=newfilepath, title = \"select a folder\")"
   ]
  },
  {
   "cell_type": "code",
   "execution_count": 5,
   "metadata": {},
   "outputs": [],
   "source": [
    "# Display selected file path\n",
    "def generate2():\n",
    "        \n",
    "       #Validation of entry fields, if left empty.\n",
    "        if newfilepath == \"\":\n",
    "            messagebox.showinfo('Information','please browse')\n",
    "        else:\n",
    "            newfilepathlabel.config(text=newfilepath)"
   ]
  },
  {
   "cell_type": "code",
   "execution_count": 6,
   "metadata": {},
   "outputs": [],
   "source": [
    "# Save file for 580nm Buffer scan, all following code follows the same structure, shown below\n",
    "# Generate Browse, display (Generate) and Close (Done) buttons, display instructions\n",
    "FotaGui = Tk()\n",
    "Browsebutton = Button(FotaGui,width = 15,text= \"Select\",command = file_path)\n",
    "Browsebutton.pack()\n",
    "Generatebutton = Button(FotaGui,text=\"Generate\",command = generate)\n",
    "Generatebutton.pack()\n",
    "filepathlabel = Label(FotaGui,text = \"File path:\",font = ('Times 10'))\n",
    "filepathlabel.pack()\n",
    "instructionslabel = Label(FotaGui,text = \"SELECT BUFFER 580nm FILE\",font = ('Times 13'))\n",
    "instructionslabel.pack()\n",
    "instructions2label = Label(FotaGui,text = \"Select file, double clicking or clicking open in the new window.\",font = ('Times 10'))\n",
    "instructions2label.pack()\n",
    "instructions3label = Label(FotaGui,text = \"Then click generate, then done.\",font = ('Times 10'))\n",
    "instructions3label.pack()\n",
    "Donebutton = Button(FotaGui,text=\"Done\",command = FotaGui.destroy)\n",
    "Donebutton.pack()\n",
    "FotaGui.mainloop()\n",
    "\n",
    "# Following the above, the file is converted into floats and saved in python\n",
    "buffer_580 = numpy.genfromtxt(fname=filepath, delimiter=',')\n",
    "buffer_580 = buffer_580.astype(numpy.float) \n",
    "buffer_580 = numpy.delete(buffer_580,1,1)\n",
    "\n",
    "#numpy delete code from: https://note.nkmk.me/en/python-numpy-delete/"
   ]
  },
  {
   "cell_type": "code",
   "execution_count": 7,
   "metadata": {},
   "outputs": [],
   "source": [
    "#Save file for 610nm Buffer scan\n",
    "FotaGui = Tk()\n",
    "Browsebutton = Button(FotaGui,width = 15,text= \"Select\",command = file_path)\n",
    "Browsebutton.pack()\n",
    "Generatebutton = Button(FotaGui,text=\"Generate\",command = generate)\n",
    "Generatebutton.pack()\n",
    "filepathlabel = Label(FotaGui,text = \"File path:\",font = ('Times 10'))\n",
    "filepathlabel.pack()\n",
    "instructionslabel = Label(FotaGui,text = \"SELECT BUFFER 610nm FILE\",font = ('Times 13'))\n",
    "instructionslabel.pack()\n",
    "instructions2label = Label(FotaGui,text = \"Select file, double clicking or clicking open in the new window.\",font = ('Times 10'))\n",
    "instructions2label.pack()\n",
    "instructions3label = Label(FotaGui,text = \"Then click generate, then done.\",font = ('Times 10'))\n",
    "instructions3label.pack()\n",
    "Donebutton = Button(FotaGui,text=\"Done\",command = FotaGui.destroy)\n",
    "Donebutton.pack()\n",
    "FotaGui.mainloop()\n",
    "\n",
    "buffer_610 = numpy.genfromtxt(fname=filepath, delimiter=',')\n",
    "buffer_610 = buffer_610.astype(numpy.float) \n",
    "buffer_610 = numpy.delete(buffer_610,1,1)"
   ]
  },
  {
   "cell_type": "code",
   "execution_count": 8,
   "metadata": {},
   "outputs": [],
   "source": [
    "#Generate Half-Half 580nm file\n",
    "FotaGui = Tk()\n",
    "Browsebutton = Button(FotaGui,width = 15,text= \"Select\",command = file_path)\n",
    "Browsebutton.pack()\n",
    "Generatebutton = Button(FotaGui,text=\"Generate\",command = generate)\n",
    "Generatebutton.pack()\n",
    "filepathlabel = Label(FotaGui,text = \"File path:\",font = ('Times 10'))\n",
    "filepathlabel.pack()\n",
    "instructionslabel = Label(FotaGui,text = \"SELECT HALF-HALF 580nm FILE\",font = ('Times 13'))\n",
    "instructionslabel.pack()\n",
    "instructions2label = Label(FotaGui,text = \"Select file, double clicking or clicking open in the new window.\",font = ('Times 10'))\n",
    "instructions2label.pack()\n",
    "instructions3label = Label(FotaGui,text = \"Then click generate, then done.\",font = ('Times 10'))\n",
    "instructions3label.pack()\n",
    "Donebutton = Button(FotaGui,text=\"Done\",command = FotaGui.destroy)\n",
    "Donebutton.pack()\n",
    "FotaGui.mainloop()\n",
    "\n",
    "half_half_580 = numpy.genfromtxt(fname=filepath, delimiter=',')\n",
    "half_half_580 = half_half_580.astype(numpy.float)\n",
    "half_half_580 = numpy.delete(half_half_580,1,1)"
   ]
  },
  {
   "cell_type": "code",
   "execution_count": 9,
   "metadata": {},
   "outputs": [],
   "source": [
    "FotaGui = Tk()\n",
    "Browsebutton = Button(FotaGui,width = 15,text= \"Select\",command = file_path)\n",
    "Browsebutton.pack()\n",
    "Generatebutton = Button(FotaGui,text=\"Generate\",command = generate)\n",
    "Generatebutton.pack()\n",
    "filepathlabel = Label(FotaGui,text = \"File path:\",font = ('Times 10'))\n",
    "filepathlabel.pack()\n",
    "instructionslabel = Label(FotaGui,text = \"SELECT HALF-HALF 610nm FILE\",font = ('Times 13'))\n",
    "instructionslabel.pack()\n",
    "instructions2label = Label(FotaGui,text = \"Select file, double clicking or clicking open in the new window.\",font = ('Times 10'))\n",
    "instructions2label.pack()\n",
    "instructions3label = Label(FotaGui,text = \"Then click generate, then done.\",font = ('Times 10'))\n",
    "instructions3label.pack()\n",
    "Donebutton = Button(FotaGui,text=\"Done\",command = FotaGui.destroy)\n",
    "Donebutton.pack()\n",
    "FotaGui.mainloop()\n",
    "\n",
    "half_half_610 = numpy.genfromtxt(fname=filepath, delimiter=',')\n",
    "half_half_610 = half_half_610.astype(numpy.float)\n",
    "half_half_610 = numpy.delete(half_half_610,1,1)"
   ]
  },
  {
   "cell_type": "code",
   "execution_count": 10,
   "metadata": {},
   "outputs": [],
   "source": [
    "FotaGui = Tk()\n",
    "Browsebutton = Button(FotaGui,width = 15,text= \"Select\",command = file_path)\n",
    "Browsebutton.pack()\n",
    "Generatebutton = Button(FotaGui,text=\"Generate\",command = generate)\n",
    "Generatebutton.pack()\n",
    "filepathlabel = Label(FotaGui,text = \"File path:\",font = ('Times 10'))\n",
    "filepathlabel.pack()\n",
    "instructionslabel = Label(FotaGui,text = \"SELECT 100% REDUCED 580nm FILE\",font = ('Times 13'))\n",
    "instructionslabel.pack()\n",
    "instructions2label = Label(FotaGui,text = \"Select file, double clicking or clicking open in the new window.\",font = ('Times 10'))\n",
    "instructions2label.pack()\n",
    "instructions3label = Label(FotaGui,text = \"Then click generate, then done.\",font = ('Times 10'))\n",
    "instructions3label.pack()\n",
    "Donebutton = Button(FotaGui,text=\"Done\",command = FotaGui.destroy)\n",
    "Donebutton.pack()\n",
    "FotaGui.mainloop()\n",
    "\n",
    "all_red_580 = numpy.genfromtxt(fname=filepath, delimiter=',')\n",
    "all_red_580 = all_red_580.astype(numpy.float)\n",
    "all_red_580 = numpy.delete(all_red_580,1,1)"
   ]
  },
  {
   "cell_type": "code",
   "execution_count": 11,
   "metadata": {},
   "outputs": [],
   "source": [
    "FotaGui = Tk()\n",
    "Browsebutton = Button(FotaGui,width = 15,text= \"Select\",command = file_path)\n",
    "Browsebutton.pack()\n",
    "Generatebutton = Button(FotaGui,text=\"Generate\",command = generate)\n",
    "Generatebutton.pack()\n",
    "filepathlabel = Label(FotaGui,text = \"File path:\",font = ('Times 10'))\n",
    "filepathlabel.pack()\n",
    "instructionslabel = Label(FotaGui,text = \"SELECT 100% REDUCED 610nm FILE\",font = ('Times 13'))\n",
    "instructionslabel.pack()\n",
    "instructions2label = Label(FotaGui,text = \"Select file, double clicking or clicking open in the new window.\",font = ('Times 10'))\n",
    "instructions2label.pack()\n",
    "instructions3label = Label(FotaGui,text = \"Then click generate, then done.\",font = ('Times 10'))\n",
    "instructions3label.pack()\n",
    "Donebutton = Button(FotaGui,text=\"Done\",command = FotaGui.destroy)\n",
    "Donebutton.pack()\n",
    "FotaGui.mainloop()\n",
    "\n",
    "all_red_610 = numpy.genfromtxt(fname=filepath, delimiter=',')\n",
    "all_red_610 = all_red_610.astype(numpy.float)\n",
    "all_red_610 = numpy.delete(all_red_610,1,1)"
   ]
  },
  {
   "cell_type": "code",
   "execution_count": 12,
   "metadata": {},
   "outputs": [],
   "source": [
    "FotaGui = Tk()\n",
    "Browsebutton = Button(FotaGui,width = 15,text= \"Select\",command = file_path)\n",
    "Browsebutton.pack()\n",
    "Generatebutton = Button(FotaGui,text=\"Generate\",command = generate)\n",
    "Generatebutton.pack()\n",
    "filepathlabel = Label(FotaGui,text = \"File path:\",font = ('Times 10'))\n",
    "filepathlabel.pack()\n",
    "instructionslabel = Label(FotaGui,text = \"SELECT 100% OXIDIZED 580nm FILE\",font = ('Times 13'))\n",
    "instructionslabel.pack()\n",
    "instructions2label = Label(FotaGui,text = \"Select file, double clicking or clicking open in the new window.\",font = ('Times 10'))\n",
    "instructions2label.pack()\n",
    "instructions3label = Label(FotaGui,text = \"Then click generate, then done.\",font = ('Times 10'))\n",
    "instructions3label.pack()\n",
    "Donebutton = Button(FotaGui,text=\"Done\",command = FotaGui.destroy)\n",
    "Donebutton.pack()\n",
    "FotaGui.mainloop()\n",
    "\n",
    "all_ox_580 = numpy.genfromtxt(fname=filepath, delimiter=',')\n",
    "all_ox_580 = all_ox_580.astype(numpy.float)\n",
    "all_ox_580 = numpy.delete(all_ox_580,1,1)"
   ]
  },
  {
   "cell_type": "code",
   "execution_count": 13,
   "metadata": {},
   "outputs": [],
   "source": [
    "FotaGui = Tk()\n",
    "Browsebutton = Button(FotaGui,width = 15,text= \"Select\",command = file_path)\n",
    "Browsebutton.pack()\n",
    "Generatebutton = Button(FotaGui,text=\"Generate\",command = generate)\n",
    "Generatebutton.pack()\n",
    "filepathlabel = Label(FotaGui,text = \"File path:\",font = ('Times 10'))\n",
    "filepathlabel.pack()\n",
    "instructionslabel = Label(FotaGui,text = \"SELECT 100% OXIDIZED 610nm FILE\",font = ('Times 13'))\n",
    "instructionslabel.pack()\n",
    "instructions2label = Label(FotaGui,text = \"Select file, double clicking or clicking open in the new window.\",font = ('Times 10'))\n",
    "instructions2label.pack()\n",
    "instructions3label = Label(FotaGui,text = \"Then click generate, then done.\",font = ('Times 10'))\n",
    "instructions3label.pack()\n",
    "Donebutton = Button(FotaGui,text=\"Done\",command = FotaGui.destroy)\n",
    "Donebutton.pack()\n",
    "FotaGui.mainloop()\n",
    "\n",
    "all_ox_610 = numpy.genfromtxt(fname=filepath, delimiter=',')\n",
    "all_ox_610 = all_ox_610.astype(numpy.float) \n",
    "all_ox_610 = numpy.delete(all_ox_610,1,1)"
   ]
  },
  {
   "cell_type": "code",
   "execution_count": 14,
   "metadata": {},
   "outputs": [],
   "source": [
    "FotaGui = Tk()\n",
    "Browsebutton = Button(FotaGui,width = 15,text= \"Select\",command = file_path)\n",
    "Browsebutton.pack()\n",
    "Generatebutton = Button(FotaGui,text=\"Generate\",command = generate)\n",
    "Generatebutton.pack()\n",
    "filepathlabel = Label(FotaGui,text = \"File path:\",font = ('Times 10'))\n",
    "filepathlabel.pack()\n",
    "instructionslabel = Label(FotaGui,text = \"SELECT 75/25 580nm FILE\",font = ('Times 13'))\n",
    "instructionslabel.pack()\n",
    "instructions2label = Label(FotaGui,text = \"Select file, double clicking or clicking open in the new window.\",font = ('Times 10'))\n",
    "instructions2label.pack()\n",
    "instructions3label = Label(FotaGui,text = \"Then click generate, then done.\",font = ('Times 10'))\n",
    "instructions3label.pack()\n",
    "Donebutton = Button(FotaGui,text=\"Done\",command = FotaGui.destroy)\n",
    "Donebutton.pack()\n",
    "FotaGui.mainloop()\n",
    "\n",
    "three_one_580 = numpy.genfromtxt(fname=filepath, delimiter=',')\n",
    "three_one_580 = three_one_580.astype(numpy.float)\n",
    "three_one_580 = numpy.delete(three_one_580,1,1)"
   ]
  },
  {
   "cell_type": "code",
   "execution_count": 15,
   "metadata": {},
   "outputs": [],
   "source": [
    "FotaGui = Tk()\n",
    "Browsebutton = Button(FotaGui,width = 15,text= \"Select\",command = file_path)\n",
    "Browsebutton.pack()\n",
    "Generatebutton = Button(FotaGui,text=\"Generate\",command = generate)\n",
    "Generatebutton.pack()\n",
    "filepathlabel = Label(FotaGui,text = \"File path:\",font = ('Times 10'))\n",
    "filepathlabel.pack()\n",
    "instructionslabel = Label(FotaGui,text = \"SELECT 75/25 610nm FILE\",font = ('Times 13'))\n",
    "instructionslabel.pack()\n",
    "instructions2label = Label(FotaGui,text = \"Select file, double clicking or clicking open in the new window.\",font = ('Times 10'))\n",
    "instructions2label.pack()\n",
    "instructions3label = Label(FotaGui,text = \"Then click generate, then done.\",font = ('Times 10'))\n",
    "instructions3label.pack()\n",
    "Donebutton = Button(FotaGui,text=\"Done\",command = FotaGui.destroy)\n",
    "Donebutton.pack()\n",
    "FotaGui.mainloop()\n",
    "\n",
    "three_one_610 = numpy.genfromtxt(fname=filepath, delimiter=',')\n",
    "three_one_610 = three_one_610.astype(numpy.float) \n",
    "three_one_610 = numpy.delete(three_one_610,1,1)"
   ]
  },
  {
   "cell_type": "code",
   "execution_count": 16,
   "metadata": {},
   "outputs": [],
   "source": [
    "FotaGui = Tk()\n",
    "Browsebutton = Button(FotaGui,width = 15,text= \"Select\",command = file_path)\n",
    "Browsebutton.pack()\n",
    "Generatebutton = Button(FotaGui,text=\"Generate\",command = generate)\n",
    "Generatebutton.pack()\n",
    "filepathlabel = Label(FotaGui,text = \"File path:\",font = ('Times 10'))\n",
    "filepathlabel.pack()\n",
    "instructionslabel = Label(FotaGui,text = \"SELECT 25/75 580nm FILE\",font = ('Times 13'))\n",
    "instructionslabel.pack()\n",
    "instructions2label = Label(FotaGui,text = \"Select file, double clicking or clicking open in the new window.\",font = ('Times 10'))\n",
    "instructions2label.pack()\n",
    "instructions3label = Label(FotaGui,text = \"Then click generate, then done.\",font = ('Times 10'))\n",
    "instructions3label.pack()\n",
    "Donebutton = Button(FotaGui,text=\"Done\",command = FotaGui.destroy)\n",
    "Donebutton.pack()\n",
    "FotaGui.mainloop()\n",
    "\n",
    "one_three_580 = numpy.genfromtxt(fname=filepath, delimiter=',')\n",
    "one_three_580 = one_three_580.astype(numpy.float)\n",
    "one_three_580 = numpy.delete(one_three_580,1,1)"
   ]
  },
  {
   "cell_type": "code",
   "execution_count": 17,
   "metadata": {},
   "outputs": [],
   "source": [
    "FotaGui = Tk()\n",
    "Browsebutton = Button(FotaGui,width = 15,text= \"Select\",command = file_path)\n",
    "Browsebutton.pack()\n",
    "Generatebutton = Button(FotaGui,text=\"Generate\",command = generate)\n",
    "Generatebutton.pack()\n",
    "filepathlabel = Label(FotaGui,text = \"File path:\",font = ('Times 10'))\n",
    "filepathlabel.pack()\n",
    "instructionslabel = Label(FotaGui,text = \"SELECT 25/75 610nm FILE\",font = ('Times 13'))\n",
    "instructionslabel.pack()\n",
    "instructions2label = Label(FotaGui,text = \"Select file, double clicking or clicking open in the new window.\",font = ('Times 10'))\n",
    "instructions2label.pack()\n",
    "instructions3label = Label(FotaGui,text = \"Then click generate, then done.\",font = ('Times 10'))\n",
    "instructions3label.pack()\n",
    "Donebutton = Button(FotaGui,text=\"Done\",command = FotaGui.destroy)\n",
    "Donebutton.pack()\n",
    "FotaGui.mainloop()\n",
    "\n",
    "one_three_610 = numpy.genfromtxt(fname=filepath, delimiter=',')\n",
    "one_three_610 = one_three_610.astype(numpy.float) \n",
    "one_three_610 = numpy.delete(one_three_610,1,1)"
   ]
  },
  {
   "cell_type": "code",
   "execution_count": 18,
   "metadata": {},
   "outputs": [],
   "source": [
    "FotaGui = Tk()\n",
    "Browsebutton = Button(FotaGui,width = 15,text= \"Select\",command = file_path)\n",
    "Browsebutton.pack()\n",
    "Generatebutton = Button(FotaGui,text=\"Generate\",command = generate)\n",
    "Generatebutton.pack()\n",
    "filepathlabel = Label(FotaGui,text = \"File path:\",font = ('Times 10'))\n",
    "filepathlabel.pack()\n",
    "instructionslabel = Label(FotaGui,text = \"SELECT DARK SCAN FILE\",font = ('Times 13'))\n",
    "instructionslabel.pack()\n",
    "instructions2label = Label(FotaGui,text = \"Select file, double clicking or clicking open in the new window.\",font = ('Times 10'))\n",
    "instructions2label.pack()\n",
    "instructions3label = Label(FotaGui,text = \"Then click generate, then done.\",font = ('Times 10'))\n",
    "instructions3label.pack()\n",
    "Donebutton = Button(FotaGui,text=\"Done\",command = FotaGui.destroy)\n",
    "Donebutton.pack()\n",
    "FotaGui.mainloop()\n",
    "\n",
    "dark_spectrum = numpy.genfromtxt(fname=filepath, delimiter=',')\n",
    "dark_spectrum = dark_spectrum.astype(numpy.float) \n",
    "dark_spectrum = numpy.delete(dark_spectrum,1,1)"
   ]
  },
  {
   "cell_type": "code",
   "execution_count": 19,
   "metadata": {},
   "outputs": [],
   "source": [
    "#Generate Dark Spectrum average value\n",
    "\n",
    "dark_mean = numpy.mean(dark_spectrum[:,1])"
   ]
  },
  {
   "cell_type": "code",
   "execution_count": 20,
   "metadata": {},
   "outputs": [],
   "source": [
    "#Subtract average dark spectrum value from all spectra, generating a new column in each\n",
    "\n",
    "subtracted = numpy.zeros((len(buffer_580),1))\n",
    "for i in range(0,len(buffer_580)):\n",
    "    subtracted[i,0] = buffer_580[i,1]-dark_mean\n",
    "buffer_580 = numpy.append(buffer_580,subtracted,axis=1)\n",
    "\n",
    "subtracted = numpy.zeros((len(buffer_610),1))\n",
    "for i in range(0,len(buffer_610)):\n",
    "    subtracted[i,0] = buffer_610[i,1]-dark_mean\n",
    "buffer_610 = numpy.append(buffer_610,subtracted,axis=1)\n",
    "\n",
    "subtracted = numpy.zeros((len(half_half_580),1))\n",
    "for i in range(0,len(half_half_580)):\n",
    "    subtracted[i,0] = half_half_580[i,1]-dark_mean\n",
    "half_half_580 = numpy.append(half_half_580,subtracted,axis=1)\n",
    "\n",
    "subtracted = numpy.zeros((len(half_half_610),1))\n",
    "for i in range(0,len(half_half_610)):\n",
    "    subtracted[i,0] = half_half_610[i,1]-dark_mean\n",
    "half_half_610 = numpy.append(half_half_610,subtracted,axis=1)\n",
    "\n",
    "subtracted = numpy.zeros((len(all_red_580),1))\n",
    "for i in range(0,len(all_red_580)):\n",
    "    subtracted[i,0] = all_red_580[i,1]-dark_mean\n",
    "all_red_580 = numpy.append(all_red_580,subtracted,axis=1)\n",
    "\n",
    "subtracted = numpy.zeros((len(all_red_610),1))\n",
    "for i in range(0,len(all_red_610)):\n",
    "    subtracted[i,0] = all_red_610[i,1]-dark_mean\n",
    "all_red_610 = numpy.append(all_red_610,subtracted,axis=1)\n",
    "\n",
    "subtracted = numpy.zeros((len(all_ox_580),1))\n",
    "for i in range(0,len(all_ox_580)):\n",
    "    subtracted[i,0] = all_ox_580[i,1]-dark_mean\n",
    "all_ox_580 = numpy.append(all_ox_580,subtracted,axis=1)\n",
    "\n",
    "subtracted = numpy.zeros((len(all_ox_610),1))\n",
    "for i in range(0,len(all_ox_610)):\n",
    "    subtracted[i,0] = all_ox_610[i,1]-dark_mean\n",
    "all_ox_610 = numpy.append(all_ox_610,subtracted,axis=1)\n",
    "\n",
    "subtracted = numpy.zeros((len(three_one_580),1))\n",
    "for i in range(0,len(three_one_580)):\n",
    "    subtracted[i,0] = three_one_580[i,1]-dark_mean\n",
    "three_one_580 = numpy.append(three_one_580,subtracted,axis=1)\n",
    "\n",
    "subtracted = numpy.zeros((len(three_one_610),1))\n",
    "for i in range(0,len(three_one_610)):\n",
    "    subtracted[i,0] = three_one_610[i,1]-dark_mean\n",
    "three_one_610 = numpy.append(three_one_610,subtracted,axis=1)\n",
    "\n",
    "subtracted = numpy.zeros((len(one_three_580),1))\n",
    "for i in range(0,len(one_three_580)):\n",
    "    subtracted[i,0] = one_three_580[i,1]-dark_mean\n",
    "one_three_580 = numpy.append(one_three_580,subtracted,axis=1)\n",
    "\n",
    "subtracted = numpy.zeros((len(one_three_610),1))\n",
    "for i in range(0,len(one_three_610)):\n",
    "    subtracted[i,0] = one_three_610[i,1]-dark_mean\n",
    "one_three_610 = numpy.append(one_three_610,subtracted,axis=1)\n",
    "\n",
    "#Zeros array code from: https://numpy.org/doc/stable/reference/generated/numpy.zeros.html\n",
    "#Numpy append code from: https://www.w3resource.com/python-exercises/numpy/python-numpy-exercise-86.php"
   ]
  },
  {
   "cell_type": "code",
   "execution_count": 21,
   "metadata": {},
   "outputs": [],
   "source": [
    "#Find index ranges to check for the approximately 1650 water peak for the 580 and 610 spectra\n",
    "\n",
    "check_1 = (buffer_580[:,0]>1630)*(buffer_580[:,0]<1660)\n",
    "check_1_results = numpy.where(check_1)\n",
    "water_580_range = check_1_results[0]\n",
    "\n",
    "check_2 = (buffer_610[:,0]>1630)*(buffer_610[:,0]<1660)\n",
    "check_2_results = numpy.where(check_2)\n",
    "water_610_range = check_2_results[0]\n",
    "#logical check code from: https://stackoverflow.com/questions/26786946/how-to-return-indices-of-values-between-two-numbers-in-numpy-array"
   ]
  },
  {
   "cell_type": "code",
   "execution_count": 22,
   "metadata": {},
   "outputs": [],
   "source": [
    "# Find the height and index of the peak in both halves of the spectrum, to be used to stitch spectra together\n",
    "\n",
    "buffer_580_peak = -100000\n",
    "buffer_580_peak_index = 0\n",
    "for i in range (water_580_range[0],water_580_range[len(water_580_range)-1]):\n",
    "    if buffer_580[i,2] > buffer_580_peak:\n",
    "        buffer_580_peak = buffer_580[i,2]\n",
    "        buffer_580_peak_index = i\n",
    "\n",
    "buffer_610_peak = -100000\n",
    "buffer_610_peak_index = 0\n",
    "for i in range (water_610_range[0],water_610_range[len(water_610_range)-1]):\n",
    "    if buffer_610[i,2] > buffer_610_peak:\n",
    "        buffer_610_peak = buffer_610[i,2]\n",
    "        buffer_610_peak_index = i\n",
    "\n",
    "#Rescale the 610 buffer values to make this peak have equal height \n",
    "scaled = numpy.zeros((len(buffer_610),1))\n",
    "for i in range(0,len(buffer_610)):\n",
    "    scaled[i,0] = buffer_610[i,2]*(buffer_580_peak/buffer_610_peak)\n",
    "buffer_610 = numpy.append(buffer_610,scaled,axis=1)"
   ]
  },
  {
   "cell_type": "code",
   "execution_count": 23,
   "metadata": {},
   "outputs": [],
   "source": [
    "half_half_580_peak = -100000\n",
    "half_half_580_peak_index = 0\n",
    "for i in range (water_580_range[0],water_580_range[len(water_580_range)-1]):\n",
    "    if half_half_580[i,2] > half_half_580_peak:\n",
    "        half_half_580_peak = half_half_580[i,2]\n",
    "        half_half_580_peak_index = i\n",
    "\n",
    "half_half_610_peak = -100000\n",
    "half_half_610_peak_index = 0\n",
    "for i in range (water_610_range[0],water_610_range[len(water_610_range)-1]):\n",
    "    if half_half_610[i,2] > half_half_610_peak:\n",
    "        half_half_610_peak = half_half_610[i,2]\n",
    "        half_half_610_peak_index = i\n",
    "\n",
    "#Rescale the 610 buffer values to make this peak have equal height \n",
    "scaled = numpy.zeros((len(half_half_610),1))\n",
    "for i in range(0,len(half_half_610)):\n",
    "    scaled[i,0] = half_half_610[i,2]*(half_half_580_peak/half_half_610_peak)\n",
    "half_half_610 = numpy.append(half_half_610,scaled,axis=1)"
   ]
  },
  {
   "cell_type": "code",
   "execution_count": 24,
   "metadata": {},
   "outputs": [],
   "source": [
    "all_ox_580_peak = -100000\n",
    "all_ox_580_peak_index = 0\n",
    "for i in range (water_580_range[0],water_580_range[len(water_580_range)-1]):\n",
    "    if all_ox_580[i,2] > all_ox_580_peak:\n",
    "        all_ox_580_peak = all_ox_580[i,2]\n",
    "        all_ox_580_peak_index = i\n",
    "\n",
    "all_ox_610_peak = -100000\n",
    "all_ox_610_peak_index = 0\n",
    "for i in range (water_610_range[0],water_610_range[len(water_610_range)-1]):\n",
    "    if all_ox_610[i,2] > all_ox_610_peak:\n",
    "        all_ox_610_peak = all_ox_610[i,2]\n",
    "        all_ox_610_peak_index = i\n",
    "\n",
    "#Rescale the 610 buffer values to make this peak have equal height \n",
    "scaled = numpy.zeros((len(all_ox_610),1))\n",
    "for i in range(0,len(all_ox_610)):\n",
    "    scaled[i,0] = all_ox_610[i,2]*(all_ox_580_peak/all_ox_610_peak)\n",
    "all_ox_610 = numpy.append(all_ox_610,scaled,axis=1)"
   ]
  },
  {
   "cell_type": "code",
   "execution_count": 25,
   "metadata": {},
   "outputs": [],
   "source": [
    "all_red_580_peak = -100000\n",
    "all_red_580_peak_index = 0\n",
    "for i in range (water_580_range[0],water_580_range[len(water_580_range)-1]):\n",
    "    if all_red_580[i,2] > all_red_580_peak:\n",
    "        all_red_580_peak = all_red_580[i,2]\n",
    "        all_red_580_peak_index = i\n",
    "\n",
    "all_red_610_peak = -100000\n",
    "all_red_610_peak_index = 0\n",
    "for i in range (water_610_range[0],water_610_range[len(water_610_range)-1]):\n",
    "    if all_red_610[i,2] > all_red_610_peak:\n",
    "        all_red_610_peak = all_red_610[i,2]\n",
    "        all_red_610_peak_index = i\n",
    "\n",
    "#Rescale the 610 buffer values to make this peak have equal height \n",
    "scaled = numpy.zeros((len(all_red_610),1))\n",
    "for i in range(0,len(all_red_610)):\n",
    "    scaled[i,0] = all_red_610[i,2]*(all_red_580_peak/all_red_610_peak)\n",
    "all_red_610 = numpy.append(all_red_610,scaled,axis=1)"
   ]
  },
  {
   "cell_type": "code",
   "execution_count": 26,
   "metadata": {},
   "outputs": [],
   "source": [
    "one_three_580_peak = -100000\n",
    "one_three_580_peak_index = 0\n",
    "for i in range (water_580_range[0],water_580_range[len(water_580_range)-1]):\n",
    "    if one_three_580[i,2] > one_three_580_peak:\n",
    "        one_three_580_peak = one_three_580[i,2]\n",
    "        one_three_580_peak_index = i\n",
    "\n",
    "one_three_610_peak = -100000\n",
    "one_three_610_peak_index = 0\n",
    "for i in range (water_610_range[0],water_610_range[len(water_610_range)-1]):\n",
    "    if one_three_610[i,2] > one_three_610_peak:\n",
    "        one_three_610_peak = one_three_610[i,2]\n",
    "        one_three_610_peak_index = i\n",
    "\n",
    "#Rescale the 610 buffer values to make this peak have equal height \n",
    "scaled = numpy.zeros((len(one_three_610),1))\n",
    "for i in range(0,len(one_three_610)):\n",
    "    scaled[i,0] = one_three_610[i,2]*(one_three_580_peak/one_three_610_peak)\n",
    "one_three_610 = numpy.append(one_three_610,scaled,axis=1)"
   ]
  },
  {
   "cell_type": "code",
   "execution_count": 27,
   "metadata": {},
   "outputs": [],
   "source": [
    "three_one_580_peak = -100000\n",
    "three_one_580_peak_index = 0\n",
    "for i in range (water_580_range[0],water_580_range[len(water_580_range)-1]):\n",
    "    if three_one_580[i,2] > three_one_580_peak:\n",
    "        three_one_580_peak = three_one_580[i,2]\n",
    "        three_one_580_peak_index = i\n",
    "\n",
    "three_one_610_peak = -100000\n",
    "three_one_610_peak_index = 0\n",
    "for i in range (water_610_range[0],water_610_range[len(water_610_range)-1]):\n",
    "    if three_one_610[i,2] > three_one_610_peak:\n",
    "        three_one_610_peak = three_one_610[i,2]\n",
    "        three_one_610_peak_index = i\n",
    "\n",
    "#Rescale the 610 buffer values to make this peak have equal height \n",
    "scaled = numpy.zeros((len(three_one_610),1))\n",
    "for i in range(0,len(three_one_610)):\n",
    "    scaled[i,0] = three_one_610[i,2]*(three_one_580_peak/three_one_610_peak)\n",
    "three_one_610 = numpy.append(three_one_610,scaled,axis=1)"
   ]
  },
  {
   "cell_type": "code",
   "execution_count": 28,
   "metadata": {},
   "outputs": [],
   "source": [
    "#Now, we save the minimum cutoff peak from the left half, and the maximum cutoff peak from the right half. This will define the ranges of values to use in the final graphs. \n",
    "peaks_580 = [buffer_580_peak_index,half_half_580_peak_index,all_red_580_peak_index,all_ox_580_peak_index,one_three_580_peak_index,three_one_580_peak_index]\n",
    "min_peak_580 = numpy.min(peaks_580)\n",
    "\n",
    "peaks_610 = [buffer_610_peak_index,half_half_610_peak_index,all_red_610_peak_index,all_ox_610_peak_index,one_three_610_peak_index,three_one_610_peak_index]\n",
    "max_peak_610 = numpy.max(peaks_610)"
   ]
  },
  {
   "cell_type": "code",
   "execution_count": 29,
   "metadata": {},
   "outputs": [],
   "source": [
    "#Find index ranges for the high water peak to be used during minimization\n",
    "\n",
    "check_3 = (buffer_610[:,0]>3040)*(buffer_610[:,0]<3200)\n",
    "check_3_results = numpy.where(check_3)\n",
    "water_peak_range = check_3_results[0]"
   ]
  },
  {
   "cell_type": "code",
   "execution_count": 30,
   "metadata": {},
   "outputs": [],
   "source": [
    "#Calculate the sum of the squared difference between the buffer and other spectra at the big water peak\n",
    "\n",
    "def opt_fun_half_half(x):\n",
    "    sum_square_dif = 0\n",
    "    for i in range(water_peak_range[0],water_peak_range[len(water_peak_range)-1]): \n",
    "        square_dif = (half_half_610[i,3]-(x*buffer_610[i,3]))**2\n",
    "        sum_square_dif += square_dif\n",
    "    return sum_square_dif\n",
    "\n",
    "def opt_fun_all_red(x):\n",
    "    sum_square_dif = 0\n",
    "    for i in range(water_peak_range[0],water_peak_range[len(water_peak_range)-1]):\n",
    "        square_dif = (all_red_610[i,3]-(x*buffer_610[i,3]))**2\n",
    "        sum_square_dif += square_dif\n",
    "    return sum_square_dif\n",
    "\n",
    "def opt_fun_all_ox(x):\n",
    "    sum_square_dif = 0\n",
    "    for i in range(water_peak_range[0],water_peak_range[len(water_peak_range)-1]):\n",
    "        square_dif = (all_ox_610[i,3]-(x*buffer_610[i,3]))**2\n",
    "        sum_square_dif += square_dif\n",
    "    return sum_square_dif\n",
    "\n",
    "def opt_fun_one_three(x):\n",
    "    sum_square_dif = 0\n",
    "    for i in range(water_peak_range[0],water_peak_range[len(water_peak_range)-1]):\n",
    "        square_dif = (one_three_610[i,3]-(x*buffer_610[i,3]))**2\n",
    "        sum_square_dif += square_dif\n",
    "    return sum_square_dif\n",
    "\n",
    "def opt_fun_three_one(x):\n",
    "    sum_square_dif = 0\n",
    "    for i in range(water_peak_range[0],water_peak_range[len(water_peak_range)-1]):\n",
    "        square_dif = (three_one_610[i,3]-(x*buffer_610[i,3]))**2\n",
    "        sum_square_dif += square_dif\n",
    "    return sum_square_dif"
   ]
  },
  {
   "cell_type": "code",
   "execution_count": 31,
   "metadata": {},
   "outputs": [],
   "source": [
    "#Minimize the squared difference between the buffer and other respective curves at the region of the big water peak\n",
    "\n",
    "half_half_opt = optimize.minimize(opt_fun_half_half,1)\n",
    "half_half_opt_mult = float(half_half_opt.x)\n",
    "\n",
    "all_red_opt = optimize.minimize(opt_fun_all_red,1)\n",
    "all_red_opt_mult = float(all_red_opt.x)\n",
    "\n",
    "all_ox_opt = optimize.minimize(opt_fun_all_ox,1)\n",
    "all_ox_opt_mult = float(all_ox_opt.x)\n",
    "\n",
    "one_three_opt = optimize.minimize(opt_fun_one_three,1)\n",
    "one_three_opt_mult = float(one_three_opt.x)\n",
    "\n",
    "three_one_opt = optimize.minimize(opt_fun_three_one,1)\n",
    "three_one_opt_mult = float(three_one_opt.x)\n",
    "#Minimization code from: https://stackoverflow.com/questions/19244527/scipy-optimize-how-to-restrict-argument-values\n",
    "#and: https://docs.scipy.org/doc/scipy/reference/generated/scipy.optimize.minimize.html"
   ]
  },
  {
   "cell_type": "code",
   "execution_count": 32,
   "metadata": {},
   "outputs": [],
   "source": [
    "#Generate new columns in all sets of data for this new, buffer subtracted data\n",
    "\n",
    "sub = numpy.zeros((len(half_half_580),1))\n",
    "for i in range(0,len(half_half_580)):\n",
    "    sub[i,0] = half_half_580[i,2]-half_half_opt_mult*buffer_580[i,2]\n",
    "half_half_580 = numpy.append(half_half_580,sub,axis=1)\n",
    "\n",
    "sub = numpy.zeros((len(half_half_610),1))\n",
    "for i in range(0,len(half_half_610)):\n",
    "    sub[i,0] = half_half_610[i,2]-half_half_opt_mult*buffer_610[i,2]\n",
    "half_half_610 = numpy.append(half_half_610,sub,axis=1)\n",
    "\n",
    "sub = numpy.zeros((len(all_red_580),1))\n",
    "for i in range(0,len(all_red_580)):\n",
    "    sub[i,0] = all_red_580[i,2]-all_red_opt_mult*buffer_580[i,2]\n",
    "all_red_580 = numpy.append(all_red_580,sub,axis=1)\n",
    "\n",
    "sub = numpy.zeros((len(all_red_610),1))\n",
    "for i in range(0,len(all_red_610)):\n",
    "    sub[i,0] = all_red_610[i,2]-all_red_opt_mult*buffer_610[i,2]\n",
    "all_red_610 = numpy.append(all_red_610,sub,axis=1)\n",
    "\n",
    "sub = numpy.zeros((len(all_ox_580),1))\n",
    "for i in range(0,len(all_ox_580)):\n",
    "    sub[i,0] = all_ox_580[i,2]-all_ox_opt_mult*buffer_580[i,2]\n",
    "all_ox_580 = numpy.append(all_ox_580,sub,axis=1)\n",
    "\n",
    "sub = numpy.zeros((len(all_ox_610),1))\n",
    "for i in range(0,len(all_ox_610)):\n",
    "    sub[i,0] = all_ox_610[i,2]-all_ox_opt_mult*buffer_610[i,2]\n",
    "all_ox_610 = numpy.append(all_ox_610,sub,axis=1)\n",
    "\n",
    "sub = numpy.zeros((len(one_three_580),1))\n",
    "for i in range(0,len(one_three_580)):\n",
    "    sub[i,0] = one_three_580[i,2]-one_three_opt_mult*buffer_580[i,2]\n",
    "one_three_580 = numpy.append(one_three_580,sub,axis=1)\n",
    "\n",
    "sub = numpy.zeros((len(one_three_610),1))\n",
    "for i in range(0,len(one_three_610)):\n",
    "    sub[i,0] = one_three_610[i,2]-one_three_opt_mult*buffer_610[i,2]\n",
    "one_three_610 = numpy.append(one_three_610,sub,axis=1)\n",
    "\n",
    "sub = numpy.zeros((len(three_one_580),1))\n",
    "for i in range(0,len(three_one_580)):\n",
    "    sub[i,0] = three_one_580[i,2]-three_one_opt_mult*buffer_580[i,2]\n",
    "three_one_580 = numpy.append(three_one_580,sub,axis=1)\n",
    "\n",
    "sub = numpy.zeros((len(three_one_610),1))\n",
    "for i in range(0,len(three_one_610)):\n",
    "    sub[i,0] = three_one_610[i,2]-three_one_opt_mult*buffer_610[i,2]\n",
    "three_one_610 = numpy.append(three_one_610,sub,axis=1)"
   ]
  },
  {
   "cell_type": "code",
   "execution_count": 33,
   "metadata": {},
   "outputs": [],
   "source": [
    "#Now we need to stitch the datasets together using the maximum and minimum x-values of the lower water peak calculated earlier\n",
    "\n",
    "raman_shifts = numpy.concatenate((buffer_580[0:min_peak_580+1,0], buffer_610[max_peak_610:len(buffer_610),0]), axis=0)\n",
    "\n",
    "half_half_full = numpy.concatenate((half_half_580[0:min_peak_580+1,3], half_half_610[max_peak_610:len(buffer_610),4]), axis=0)\n",
    "\n",
    "all_red_full = numpy.concatenate((all_red_580[0:min_peak_580+1,3], all_red_610[max_peak_610:len(buffer_610),4]), axis=0)\n",
    "\n",
    "all_ox_full = numpy.concatenate((all_ox_580[0:min_peak_580+1,3], all_ox_610[max_peak_610:len(buffer_610),4]), axis=0)\n",
    "\n",
    "three_one_full = numpy.concatenate((three_one_580[0:min_peak_580+1,3], three_one_610[max_peak_610:len(buffer_610),4]), axis=0)\n",
    "\n",
    "one_three_full = numpy.concatenate((one_three_580[0:min_peak_580+1,3], one_three_610[max_peak_610:len(buffer_610),4]), axis=0)\n",
    "\n",
    "full_dataset = numpy.zeros((len(raman_shifts),6))\n",
    "full_dataset[:,0] = raman_shifts\n",
    "full_dataset[:,1] = all_ox_full\n",
    "full_dataset[:,2] = three_one_full\n",
    "full_dataset[:,3] = half_half_full\n",
    "full_dataset[:,4] = one_three_full\n",
    "full_dataset[:,5] = all_red_full\n",
    "\n",
    "#Concatenate code from: https://numpy.org/doc/stable/reference/generated/numpy.concatenate.html"
   ]
  },
  {
   "cell_type": "code",
   "execution_count": 34,
   "metadata": {},
   "outputs": [
    {
     "data": {
      "text/plain": [
       "<matplotlib.legend.Legend at 0x296d82f2520>"
      ]
     },
     "execution_count": 34,
     "metadata": {},
     "output_type": "execute_result"
    },
    {
     "data": {
      "image/png": "[encoded data removed]",
      "text/plain": [
       "<Figure size 432x288 with 1 Axes>"
      ]
     },
     "metadata": {
      "needs_background": "light"
     },
     "output_type": "display_data"
    }
   ],
   "source": [
    "# Plot combined raw spectra\n",
    "fig1 = plt.figure(1)\n",
    "plt.suptitle('Combined Raman Spectra',y = 1, fontsize = 'x-large')\n",
    "plt.xlabel('Raman Shift')\n",
    "plt.ylabel('Intensity')\n",
    "plt.plot(full_dataset[:,0], full_dataset[:,1],label = '100% Oxidized Glutathione', color = 'b')\n",
    "plt.plot(full_dataset[:,0], full_dataset[:,2],label = '75/25 Oxidized:Reduced Glutathione', color = 'c')\n",
    "plt.plot(full_dataset[:,0], full_dataset[:,3],label = '50/50 Oxidized:Reduced Glutathione', color = 'g')\n",
    "plt.plot(full_dataset[:,0], full_dataset[:,4],label = '25/75 Oxidized:Reduced Glutathione', color = 'm')\n",
    "plt.plot(full_dataset[:,0], full_dataset[:,5],label = '100% Reduced Glutathione', color = 'r')\n",
    "plt.legend()"
   ]
  },
  {
   "cell_type": "code",
   "execution_count": 35,
   "metadata": {},
   "outputs": [],
   "source": [
    "# Find the index range of the C-H peak\n",
    "check_4 = (full_dataset[:,0]>2800)*(full_dataset[:,0]<3000)\n",
    "check_4_results = numpy.where(check_4)\n",
    "carbon_peak_range = check_4_results[0]"
   ]
  },
  {
   "cell_type": "code",
   "execution_count": 36,
   "metadata": {},
   "outputs": [],
   "source": [
    "# Find C-H peak value in each spectrum, properly scale spectra to this peak\n",
    "\n",
    "half_half_peak = -100000\n",
    "for i in range (carbon_peak_range[0],carbon_peak_range[len(carbon_peak_range)-1]):\n",
    "    if full_dataset[i,3] > half_half_peak:\n",
    "        half_half_peak = full_dataset[i,3]\n",
    "        \n",
    "all_red_peak = -100000\n",
    "for i in range (carbon_peak_range[0],carbon_peak_range[len(carbon_peak_range)-1]):\n",
    "    if full_dataset[i,5] > all_red_peak:\n",
    "        all_red_peak = full_dataset[i,5]\n",
    "        \n",
    "all_ox_peak = -100000\n",
    "for i in range (carbon_peak_range[0],carbon_peak_range[len(carbon_peak_range)-1]):\n",
    "    if full_dataset[i,1] > all_ox_peak:\n",
    "        all_ox_peak = full_dataset[i,1]\n",
    "        \n",
    "one_three_peak = -100000\n",
    "for i in range (carbon_peak_range[0],carbon_peak_range[len(carbon_peak_range)-1]):\n",
    "    if full_dataset[i,4] > one_three_peak:\n",
    "        one_three_peak = full_dataset[i,4]\n",
    "\n",
    "three_one_peak = -100000\n",
    "for i in range (carbon_peak_range[0],carbon_peak_range[len(carbon_peak_range)-1]):\n",
    "    if full_dataset[i,2] > three_one_peak:\n",
    "        three_one_peak = full_dataset[i,2]"
   ]
  },
  {
   "cell_type": "code",
   "execution_count": 37,
   "metadata": {},
   "outputs": [],
   "source": [
    "scaled_three_one = numpy.zeros((len(full_dataset),1))\n",
    "for i in range(0,len(full_dataset)):\n",
    "    scaled_three_one[i,0] = full_dataset[i,2]*(all_ox_peak/three_one_peak)\n",
    "full_dataset = numpy.append(full_dataset,scaled_three_one,axis=1) #Col index 6       \n",
    "\n",
    "scaled_half_half = numpy.zeros((len(full_dataset),1))\n",
    "for i in range(0,len(full_dataset)):\n",
    "    scaled_half_half[i,0] = full_dataset[i,3]*(all_ox_peak/half_half_peak)\n",
    "full_dataset = numpy.append(full_dataset,scaled_half_half,axis=1) #Col index 7\n",
    "\n",
    "scaled_one_three = numpy.zeros((len(full_dataset),1))\n",
    "for i in range(0,len(full_dataset)):\n",
    "    scaled_one_three[i,0] = full_dataset[i,4]*(all_ox_peak/one_three_peak)\n",
    "full_dataset = numpy.append(full_dataset,scaled_one_three,axis=1) #Col index 8\n",
    "\n",
    "scaled_all_red = numpy.zeros((len(full_dataset),1))\n",
    "for i in range(0,len(full_dataset)):\n",
    "    scaled_all_red[i,0] = full_dataset[i,5]*(all_ox_peak/all_red_peak)\n",
    "full_dataset = numpy.append(full_dataset,scaled_all_red,axis=1) #Col index 9"
   ]
  },
  {
   "cell_type": "code",
   "execution_count": 38,
   "metadata": {},
   "outputs": [
    {
     "data": {
      "text/plain": [
       "<matplotlib.legend.Legend at 0x296d86966d0>"
      ]
     },
     "execution_count": 38,
     "metadata": {},
     "output_type": "execute_result"
    },
    {
     "data": {
      "image/png": "[encoded data removed]",
      "text/plain": [
       "<Figure size 432x288 with 1 Axes>"
      ]
     },
     "metadata": {
      "needs_background": "light"
     },
     "output_type": "display_data"
    }
   ],
   "source": [
    "# Plot rescaled combined spectra\n",
    "fig2 = plt.figure(2)\n",
    "plt.suptitle('Combined (C-H)-Scaled Raman Spectra',y = 1, fontsize = 'x-large')\n",
    "plt.xlabel('Raman Shift')\n",
    "plt.ylabel('Intensity')\n",
    "plt.plot(full_dataset[:,0], full_dataset[:,1],label = '100% Oxidized Glutathione', color = 'b')\n",
    "plt.plot(full_dataset[:,0], full_dataset[:,6],label = '75/25 Oxidized:Reduced Glutathione', color = 'c')\n",
    "plt.plot(full_dataset[:,0], full_dataset[:,7],label = '50/50 Oxidized:Reduced Glutathione', color = 'g')\n",
    "plt.plot(full_dataset[:,0], full_dataset[:,8],label = '25/75 Oxidized:Reduced Glutathione', color = 'm')\n",
    "plt.plot(full_dataset[:,0], full_dataset[:,9],label = '100% Reduced Glutathione', color = 'r')\n",
    "plt.legend()"
   ]
  },
  {
   "cell_type": "code",
   "execution_count": 39,
   "metadata": {},
   "outputs": [],
   "source": [
    "# Find the index range of the S-H peak\n",
    "check_5 = (full_dataset[:,0]>2500)*(full_dataset[:,0]<2650)\n",
    "check_5_results = numpy.where(check_5)\n",
    "SH_peak_range = check_5_results[0]\n",
    "\n",
    "# Find the index range of the S-S peak\n",
    "check_6 = (full_dataset[:,0]>450)*(full_dataset[:,0]<600)\n",
    "check_6_results = numpy.where(check_6)\n",
    "SS_peak_range = check_6_results[0]"
   ]
  },
  {
   "cell_type": "code",
   "execution_count": 40,
   "metadata": {},
   "outputs": [],
   "source": [
    "# Find S-H peak value in each spectrum, find maximum value among these\n",
    "\n",
    "half_half_peak = -100000\n",
    "for i in range (SH_peak_range[0],SH_peak_range[len(SH_peak_range)-1]):\n",
    "    if full_dataset[i,7] > half_half_peak:\n",
    "        half_half_peak = full_dataset[i,7]\n",
    "        \n",
    "all_red_peak = -100000\n",
    "for i in range (SH_peak_range[0],SH_peak_range[len(SH_peak_range)-1]):\n",
    "    if full_dataset[i,9] > all_red_peak:\n",
    "        all_red_peak = full_dataset[i,9]\n",
    "        \n",
    "all_ox_peak = -100000\n",
    "for i in range (SH_peak_range[0],SH_peak_range[len(SH_peak_range)-1]):\n",
    "    if full_dataset[i,1] > all_ox_peak:\n",
    "        all_ox_peak = full_dataset[i,1]\n",
    "        \n",
    "one_three_peak = -100000\n",
    "for i in range (SH_peak_range[0],SH_peak_range[len(SH_peak_range)-1]):\n",
    "    if full_dataset[i,8] > one_three_peak:\n",
    "        one_three_peak = full_dataset[i,8]\n",
    "\n",
    "three_one_peak = -100000\n",
    "for i in range (SH_peak_range[0],SH_peak_range[len(SH_peak_range)-1]):\n",
    "    if full_dataset[i,6] > three_one_peak:\n",
    "        three_one_peak = full_dataset[i,6]\n",
    "        \n",
    "\n",
    "SH_peaks_list = [half_half_peak,all_red_peak,all_ox_peak,one_three_peak,three_one_peak]\n",
    "SH_peak = numpy.max(SH_peaks_list)"
   ]
  },
  {
   "cell_type": "code",
   "execution_count": 41,
   "metadata": {},
   "outputs": [
    {
     "data": {
      "text/plain": [
       "<matplotlib.legend.Legend at 0x296d8734ee0>"
      ]
     },
     "execution_count": 41,
     "metadata": {},
     "output_type": "execute_result"
    },
    {
     "data": {
      "image/png": "[encoded data removed]",
      "text/plain": [
       "<Figure size 432x288 with 1 Axes>"
      ]
     },
     "metadata": {
      "needs_background": "light"
     },
     "output_type": "display_data"
    }
   ],
   "source": [
    "# Zoom in to the S-H peak\n",
    "fig3 = plt.figure(3)\n",
    "plt.suptitle('Combined S-H Peak',y = 1, fontsize = 'x-large')\n",
    "plt.xlabel('Raman Shift')\n",
    "plt.ylabel('Intensity')\n",
    "plt.plot(full_dataset[:,0], full_dataset[:,1],label = '100% Oxidized Glutathione', color = 'b')\n",
    "plt.plot(full_dataset[:,0], full_dataset[:,6],label = '75/25 Oxidized:Reduced Glutathione', color = 'c')\n",
    "plt.plot(full_dataset[:,0], full_dataset[:,7],label = '50/50 Oxidized:Reduced Glutathione', color = 'g')\n",
    "plt.plot(full_dataset[:,0], full_dataset[:,8],label = '25/75 Oxidized:Reduced Glutathione', color = 'm')\n",
    "plt.plot(full_dataset[:,0], full_dataset[:,9],label = '100% Reduced Glutathione', color = 'r')\n",
    "plt.xlim(2500,2650)\n",
    "plt.ylim(-1.5*SH_peak,2*SH_peak)\n",
    "plt.legend()"
   ]
  },
  {
   "cell_type": "code",
   "execution_count": 42,
   "metadata": {},
   "outputs": [],
   "source": [
    "# Find S-S peak value in each spectrum, find maximum value among these\n",
    "\n",
    "half_half_peak = -100000\n",
    "for i in range (SS_peak_range[0],SS_peak_range[len(SS_peak_range)-1]):\n",
    "    if full_dataset[i,7] > half_half_peak:\n",
    "        half_half_peak = full_dataset[i,7]\n",
    "        \n",
    "all_red_peak = -100000\n",
    "for i in range (SS_peak_range[0],SS_peak_range[len(SS_peak_range)-1]):\n",
    "    if full_dataset[i,9] > all_red_peak:\n",
    "        all_red_peak = full_dataset[i,9]\n",
    "        \n",
    "all_ox_peak = -100000\n",
    "for i in range (SS_peak_range[0],SS_peak_range[len(SS_peak_range)-1]):\n",
    "    if full_dataset[i,1] > all_ox_peak:\n",
    "        all_ox_peak = full_dataset[i,1]\n",
    "        \n",
    "one_three_peak = -100000\n",
    "for i in range (SS_peak_range[0],SS_peak_range[len(SS_peak_range)-1]):\n",
    "    if full_dataset[i,8] > one_three_peak:\n",
    "        one_three_peak = full_dataset[i,8]\n",
    "\n",
    "three_one_peak = -100000\n",
    "for i in range (SS_peak_range[0],SS_peak_range[len(SS_peak_range)-1]):\n",
    "    if full_dataset[i,6] > three_one_peak:\n",
    "        three_one_peak = full_dataset[i,6]\n",
    "        \n",
    "\n",
    "SS_peaks_list = [half_half_peak,all_red_peak,all_ox_peak,one_three_peak,three_one_peak]\n",
    "SS_peak = numpy.max(SS_peaks_list)"
   ]
  },
  {
   "cell_type": "code",
   "execution_count": 43,
   "metadata": {},
   "outputs": [
    {
     "data": {
      "text/plain": [
       "<matplotlib.legend.Legend at 0x296d8793550>"
      ]
     },
     "execution_count": 43,
     "metadata": {},
     "output_type": "execute_result"
    },
    {
     "data": {
      "image/png": "[encoded data removed]",
      "text/plain": [
       "<Figure size 432x288 with 1 Axes>"
      ]
     },
     "metadata": {
      "needs_background": "light"
     },
     "output_type": "display_data"
    }
   ],
   "source": [
    "# Zoom in to the S-S peak\n",
    "fig4 = plt.figure(4)\n",
    "plt.suptitle('Combined S-S Peak',y = 1, fontsize = 'x-large')\n",
    "plt.xlabel('Raman Shift')\n",
    "plt.ylabel('Intensity')\n",
    "plt.plot(full_dataset[:,0], full_dataset[:,1],label = '100% Oxidized Glutathione',color='b')\n",
    "plt.plot(full_dataset[:,0], full_dataset[:,6],label = '75/25 Oxidized:Reduced Glutathione',color='c')\n",
    "plt.plot(full_dataset[:,0], full_dataset[:,7],label = '50/50 Oxidized:Reduced Glutathione',color='g')\n",
    "plt.plot(full_dataset[:,0], full_dataset[:,8],label = '25/75 Oxidized:Reduced Glutathione',color='m')\n",
    "plt.plot(full_dataset[:,0], full_dataset[:,9],label = '100% Reduced Glutathione',color='r')\n",
    "plt.xlim(450,600)\n",
    "plt.ylim(-1.5*SS_peak,2*SS_peak)\n",
    "plt.legend()"
   ]
  },
  {
   "cell_type": "code",
   "execution_count": 44,
   "metadata": {},
   "outputs": [],
   "source": [
    "#I will now begin the process of getting all graphs onto the same baseline curve in the regions for the SH and SS curves\n",
    "# Here I get index ranges for these two peaks\n",
    "check_5 = (full_dataset[:,0]>2500)*(full_dataset[:,0]<2650)\n",
    "check_5_results = numpy.where(check_5)\n",
    "SH_range = check_5_results[0]\n",
    "SH_lower_bound = SH_range[0]\n",
    "SH_upper_bound = SH_range[len(SH_range)-1]\n",
    "\n",
    "check_6 = (full_dataset[:,0]>450)*(full_dataset[:,0]<600)\n",
    "check_6_results = numpy.where(check_6)\n",
    "SS_range = check_6_results[0]\n",
    "SS_lower_bound = SS_range[0]\n",
    "SS_upper_bound = SS_range[len(SS_range)-1]"
   ]
  },
  {
   "cell_type": "code",
   "execution_count": 45,
   "metadata": {},
   "outputs": [],
   "source": [
    "# Here I calculate the baselines at the edges of these zoomed in regions, both slope and intercept\n",
    "SH_all_ox_slope = (full_dataset[SH_upper_bound,1]-full_dataset[SH_lower_bound,1])/(full_dataset[SH_upper_bound,0]-full_dataset[SH_lower_bound,0])\n",
    "SH_three_one_slope = (full_dataset[SH_upper_bound,6]-full_dataset[SH_lower_bound,6])/(full_dataset[SH_upper_bound,0]-full_dataset[SH_lower_bound,0])\n",
    "SH_half_half_slope = (full_dataset[SH_upper_bound,7]-full_dataset[SH_lower_bound,7])/(full_dataset[SH_upper_bound,0]-full_dataset[SH_lower_bound,0])\n",
    "SH_one_three_slope = (full_dataset[SH_upper_bound,8]-full_dataset[SH_lower_bound,8])/(full_dataset[SH_upper_bound,0]-full_dataset[SH_lower_bound,0])\n",
    "SH_all_red_slope = (full_dataset[SH_upper_bound,9]-full_dataset[SH_lower_bound,9])/(full_dataset[SH_upper_bound,0]-full_dataset[SH_lower_bound,0])\n",
    "\n",
    "SH_all_ox_int = full_dataset[SH_lower_bound,1] - (SH_all_ox_slope * full_dataset[SH_lower_bound,0])\n",
    "SH_three_one_int = full_dataset[SH_lower_bound,6] - (SH_three_one_slope * full_dataset[SH_lower_bound,0])\n",
    "SH_half_half_int = full_dataset[SH_lower_bound,7] - (SH_half_half_slope * full_dataset[SH_lower_bound,0])\n",
    "SH_one_three_int = full_dataset[SH_lower_bound,8] - (SH_one_three_slope * full_dataset[SH_lower_bound,0])\n",
    "SH_all_red_int = full_dataset[SH_lower_bound,9] - (SH_all_red_slope * full_dataset[SH_lower_bound,0])\n",
    "\n",
    "SS_all_ox_slope = (full_dataset[SS_upper_bound,1]-full_dataset[SS_lower_bound,1])/(full_dataset[SS_upper_bound,0]-full_dataset[SS_lower_bound,0])\n",
    "SS_three_one_slope = (full_dataset[SS_upper_bound,6]-full_dataset[SS_lower_bound,6])/(full_dataset[SS_upper_bound,0]-full_dataset[SS_lower_bound,0])\n",
    "SS_half_half_slope = (full_dataset[SS_upper_bound,7]-full_dataset[SS_lower_bound,7])/(full_dataset[SS_upper_bound,0]-full_dataset[SS_lower_bound,0])\n",
    "SS_one_three_slope = (full_dataset[SS_upper_bound,8]-full_dataset[SS_lower_bound,8])/(full_dataset[SS_upper_bound,0]-full_dataset[SS_lower_bound,0])\n",
    "SS_all_red_slope = (full_dataset[SS_upper_bound,9]-full_dataset[SS_lower_bound,9])/(full_dataset[SS_upper_bound,0]-full_dataset[SS_lower_bound,0])\n",
    "\n",
    "SS_all_ox_int = full_dataset[SS_lower_bound,1] - (SS_all_ox_slope * full_dataset[SS_lower_bound,0])\n",
    "SS_three_one_int = full_dataset[SS_lower_bound,6] - (SS_three_one_slope * full_dataset[SS_lower_bound,0])\n",
    "SS_half_half_int = full_dataset[SS_lower_bound,7] - (SS_half_half_slope * full_dataset[SS_lower_bound,0])\n",
    "SS_one_three_int = full_dataset[SS_lower_bound,8] - (SS_one_three_slope * full_dataset[SS_lower_bound,0])\n",
    "SS_all_red_int = full_dataset[SS_lower_bound,9] - (SS_all_red_slope * full_dataset[SS_lower_bound,0])"
   ]
  },
  {
   "cell_type": "code",
   "execution_count": 46,
   "metadata": {},
   "outputs": [],
   "source": [
    "# I now generate new columns where the baselines are subtracted to lead to a zero baseline in these regions\n",
    "SH_shifted_all_ox = numpy.zeros((len(full_dataset),1))\n",
    "for i in range(0,len(full_dataset)):\n",
    "    SH_shifted_all_ox[i,0] = full_dataset[i,1]-(SH_all_ox_int + (SH_all_ox_slope*full_dataset[i,0]))\n",
    "full_dataset = numpy.append(full_dataset,SH_shifted_all_ox,axis=1) #Col index 10       \n",
    "\n",
    "SH_shifted_three_one = numpy.zeros((len(full_dataset),1))\n",
    "for i in range(0,len(full_dataset)):\n",
    "    SH_shifted_three_one[i,0] = full_dataset[i,6]-(SH_three_one_int + (SH_three_one_slope*full_dataset[i,0]))\n",
    "full_dataset = numpy.append(full_dataset,SH_shifted_three_one,axis=1) #Col index 11  \n",
    "\n",
    "SH_shifted_half_half = numpy.zeros((len(full_dataset),1))\n",
    "for i in range(0,len(full_dataset)):\n",
    "    SH_shifted_half_half[i,0] = full_dataset[i,7]-(SH_half_half_int + (SH_half_half_slope*full_dataset[i,0]))\n",
    "full_dataset = numpy.append(full_dataset,SH_shifted_half_half,axis=1) #Col index 12  \n",
    "\n",
    "SH_shifted_one_three = numpy.zeros((len(full_dataset),1))\n",
    "for i in range(0,len(full_dataset)):\n",
    "    SH_shifted_one_three[i,0] = full_dataset[i,8]-(SH_one_three_int + (SH_one_three_slope*full_dataset[i,0]))\n",
    "full_dataset = numpy.append(full_dataset,SH_shifted_one_three,axis=1) #Col index 13  \n",
    "\n",
    "SH_shifted_all_red = numpy.zeros((len(full_dataset),1))\n",
    "for i in range(0,len(full_dataset)):\n",
    "    SH_shifted_all_red[i,0] = full_dataset[i,9]-(SH_all_red_int + (SH_all_red_slope*full_dataset[i,0]))\n",
    "full_dataset = numpy.append(full_dataset,SH_shifted_all_red,axis=1) #Col index 14  "
   ]
  },
  {
   "cell_type": "code",
   "execution_count": 47,
   "metadata": {},
   "outputs": [],
   "source": [
    "SS_shifted_all_ox = numpy.zeros((len(full_dataset),1))\n",
    "for i in range(0,len(full_dataset)):\n",
    "    SS_shifted_all_ox[i,0] = full_dataset[i,1]-(SS_all_ox_int + (SS_all_ox_slope*full_dataset[i,0]))\n",
    "full_dataset = numpy.append(full_dataset,SS_shifted_all_ox,axis=1) #Col index 15       \n",
    "\n",
    "SS_shifted_three_one = numpy.zeros((len(full_dataset),1))\n",
    "for i in range(0,len(full_dataset)):\n",
    "    SS_shifted_three_one[i,0] = full_dataset[i,6]-(SS_three_one_int + (SS_three_one_slope*full_dataset[i,0]))\n",
    "full_dataset = numpy.append(full_dataset,SS_shifted_three_one,axis=1) #Col index 16  \n",
    "\n",
    "SS_shifted_half_half = numpy.zeros((len(full_dataset),1))\n",
    "for i in range(0,len(full_dataset)):\n",
    "    SS_shifted_half_half[i,0] = full_dataset[i,7]-(SS_half_half_int + (SS_half_half_slope*full_dataset[i,0]))\n",
    "full_dataset = numpy.append(full_dataset,SS_shifted_half_half,axis=1) #Col index 17  \n",
    "\n",
    "SS_shifted_one_three = numpy.zeros((len(full_dataset),1))\n",
    "for i in range(0,len(full_dataset)):\n",
    "    SS_shifted_one_three[i,0] = full_dataset[i,8]-(SS_one_three_int + (SS_one_three_slope*full_dataset[i,0]))\n",
    "full_dataset = numpy.append(full_dataset,SS_shifted_one_three,axis=1) #Col index 18  \n",
    "\n",
    "SS_shifted_all_red = numpy.zeros((len(full_dataset),1))\n",
    "for i in range(0,len(full_dataset)):\n",
    "    SS_shifted_all_red[i,0] = full_dataset[i,9]-(SS_all_red_int + (SS_all_red_slope*full_dataset[i,0]))\n",
    "full_dataset = numpy.append(full_dataset,SS_shifted_all_red,axis=1) #Col index 19  "
   ]
  },
  {
   "cell_type": "code",
   "execution_count": 48,
   "metadata": {},
   "outputs": [],
   "source": [
    "# Find S-H peak value in each spectrum, find maximum value among these\n",
    "\n",
    "half_half_peak = -100000\n",
    "for i in range (SH_peak_range[0],SH_peak_range[len(SH_peak_range)-1]):\n",
    "    if full_dataset[i,12] > half_half_peak:\n",
    "        half_half_peak = full_dataset[i,12]\n",
    "        \n",
    "all_red_peak = -100000\n",
    "for i in range (SH_peak_range[0],SH_peak_range[len(SH_peak_range)-1]):\n",
    "    if full_dataset[i,14] > all_red_peak:\n",
    "        all_red_peak = full_dataset[i,14]\n",
    "        SH_all_red_peak_index = i\n",
    "        \n",
    "all_ox_peak = -100000\n",
    "for i in range (SH_peak_range[0],SH_peak_range[len(SH_peak_range)-1]):\n",
    "    if full_dataset[i,10] > all_ox_peak:\n",
    "        all_ox_peak = full_dataset[i,10]\n",
    "        \n",
    "one_three_peak = -100000\n",
    "for i in range (SH_peak_range[0],SH_peak_range[len(SH_peak_range)-1]):\n",
    "    if full_dataset[i,13] > one_three_peak:\n",
    "        one_three_peak = full_dataset[i,13]\n",
    "\n",
    "three_one_peak = -100000\n",
    "for i in range (SH_peak_range[0],SH_peak_range[len(SH_peak_range)-1]):\n",
    "    if full_dataset[i,11] > three_one_peak:\n",
    "        three_one_peak = full_dataset[i,11]\n",
    "        \n",
    "\n",
    "SH_peaks_list = [half_half_peak,all_red_peak,all_ox_peak,one_three_peak,three_one_peak]\n",
    "SH_peak_new = numpy.max(SH_peaks_list)"
   ]
  },
  {
   "cell_type": "code",
   "execution_count": 49,
   "metadata": {},
   "outputs": [
    {
     "data": {
      "text/plain": [
       "<matplotlib.legend.Legend at 0x296d8813190>"
      ]
     },
     "execution_count": 49,
     "metadata": {},
     "output_type": "execute_result"
    },
    {
     "data": {
      "image/png": "[encoded data removed]",
      "text/plain": [
       "<Figure size 432x288 with 1 Axes>"
      ]
     },
     "metadata": {
      "needs_background": "light"
     },
     "output_type": "display_data"
    }
   ],
   "source": [
    "# Plot the baseline-corrected S-H peak\n",
    "fig5 = plt.figure(5)\n",
    "plt.suptitle('Combined S-H Peak with Corrected Baseline',y = 1, fontsize = 'x-large')\n",
    "plt.xlabel('Raman Shift')\n",
    "plt.ylabel('Intensity')\n",
    "plt.plot(full_dataset[:,0], full_dataset[:,10],label = '100% Oxidized Glutathione', color = 'b')\n",
    "plt.plot(full_dataset[:,0], full_dataset[:,11],label = '75/25 Oxidized:Reduced Glutathione', color = 'c')\n",
    "plt.plot(full_dataset[:,0], full_dataset[:,12],label = '50/50 Oxidized:Reduced Glutathione', color = 'g')\n",
    "plt.plot(full_dataset[:,0], full_dataset[:,13],label = '25/75 Oxidized:Reduced Glutathione', color = 'm')\n",
    "plt.plot(full_dataset[:,0], full_dataset[:,14],label = '100% Reduced Glutathione', color = 'r')\n",
    "plt.xlim(2500,2650)\n",
    "plt.ylim(-0.5*SH_peak_new,2*SH_peak_new)\n",
    "plt.legend()"
   ]
  },
  {
   "cell_type": "code",
   "execution_count": 50,
   "metadata": {},
   "outputs": [],
   "source": [
    "# Find S-S peak value in each spectrum, find maximum value among these\n",
    "\n",
    "half_half_peak = -100000\n",
    "for i in range (SS_peak_range[0],SS_peak_range[len(SS_peak_range)-1]):\n",
    "    if full_dataset[i,17] > half_half_peak:\n",
    "        half_half_peak = full_dataset[i,17]\n",
    "        \n",
    "all_red_peak = -100000\n",
    "for i in range (SS_peak_range[0],SS_peak_range[len(SS_peak_range)-1]):\n",
    "    if full_dataset[i,19] > all_red_peak:\n",
    "        all_red_peak = full_dataset[i,19]\n",
    "        \n",
    "all_ox_peak = -100000\n",
    "for i in range (SS_peak_range[0],SS_peak_range[len(SS_peak_range)-1]):\n",
    "    if full_dataset[i,15] > all_ox_peak:\n",
    "        all_ox_peak = full_dataset[i,15]\n",
    "        SS_all_ox_peak_index = i\n",
    "        \n",
    "one_three_peak = -100000\n",
    "for i in range (SS_peak_range[0],SS_peak_range[len(SS_peak_range)-1]):\n",
    "    if full_dataset[i,18] > one_three_peak:\n",
    "        one_three_peak = full_dataset[i,18]\n",
    "\n",
    "three_one_peak = -100000\n",
    "for i in range (SS_peak_range[0],SS_peak_range[len(SS_peak_range)-1]):\n",
    "    if full_dataset[i,16] > three_one_peak:\n",
    "        three_one_peak = full_dataset[i,16]\n",
    "        \n",
    "\n",
    "SS_peaks_list = [half_half_peak,all_red_peak,all_ox_peak,one_three_peak,three_one_peak]\n",
    "SS_peak_new = numpy.max(SS_peaks_list)"
   ]
  },
  {
   "cell_type": "code",
   "execution_count": 51,
   "metadata": {},
   "outputs": [
    {
     "data": {
      "text/plain": [
       "<matplotlib.legend.Legend at 0x296d8899b20>"
      ]
     },
     "execution_count": 51,
     "metadata": {},
     "output_type": "execute_result"
    },
    {
     "data": {
      "image/png": "[encoded data removed]",
      "text/plain": [
       "<Figure size 432x288 with 1 Axes>"
      ]
     },
     "metadata": {
      "needs_background": "light"
     },
     "output_type": "display_data"
    }
   ],
   "source": [
    "# Plot the baseline-corrected S-S peak\n",
    "fig6 = plt.figure(6)\n",
    "plt.suptitle('Combined S-S Peak with Corrected Baseline',y = 1, fontsize = 'x-large')\n",
    "plt.xlabel('Raman Shift')\n",
    "plt.ylabel('Intensity')\n",
    "plt.plot(full_dataset[:,0], full_dataset[:,15],label = '100% Oxidized Glutathione', color = 'b')\n",
    "plt.plot(full_dataset[:,0], full_dataset[:,16],label = '75/25 Oxidized:Reduced Glutathione', color = 'c')\n",
    "plt.plot(full_dataset[:,0], full_dataset[:,17],label = '50/50 Oxidized:Reduced Glutathione', color = 'g')\n",
    "plt.plot(full_dataset[:,0], full_dataset[:,18],label = '25/75 Oxidized:Reduced Glutathione', color = 'm')\n",
    "plt.plot(full_dataset[:,0], full_dataset[:,19],label = '100% Reduced Glutathione', color = 'r')\n",
    "plt.xlim(450,600)\n",
    "plt.ylim(-0.5*SS_peak_new,2*SS_peak_new)\n",
    "plt.legend()"
   ]
  },
  {
   "cell_type": "code",
   "execution_count": 52,
   "metadata": {},
   "outputs": [],
   "source": [
    "max_SH_by_red = numpy.zeros((5,2))\n",
    "max_SH_by_red[:,0]=(0,0.25,0.5,0.75,1)\n",
    "max_SH_by_red[:,1]=(SH_zoom_dataset[SH_all_red_peak_index,10],SH_zoom_dataset[SH_all_red_peak_index,11],SH_zoom_dataset[SH_all_red_peak_index,12],SH_zoom_dataset[SH_all_red_peak_index,13],SH_zoom_dataset[SH_all_red_peak_index,14])\n"
   ]
  },
  {
   "cell_type": "code",
   "execution_count": 53,
   "metadata": {},
   "outputs": [
    {
     "data": {
      "text/plain": [
       "[<matplotlib.lines.Line2D at 0x296d87928e0>]"
      ]
     },
     "execution_count": 53,
     "metadata": {},
     "output_type": "execute_result"
    },
    {
     "data": {
      "image/png": "[encoded data removed]",
      "text/plain": [
       "<Figure size 432x288 with 1 Axes>"
      ]
     },
     "metadata": {
      "needs_background": "light"
     },
     "output_type": "display_data"
    }
   ],
   "source": [
    "# Plot the height of the SH peak at the x-value of the reduced maximum\n",
    "fig7 = plt.figure(7)\n",
    "plt.suptitle('S-H Peak Size',y = 1, fontsize = 'x-large')\n",
    "plt.xlabel('Percentage Reduced Glutathione')\n",
    "plt.ylabel('S-H Peak Height')\n",
    "plt.plot(max_SH_by_red[:,0], max_SH_by_red[:,1])"
   ]
  },
  {
   "cell_type": "code",
   "execution_count": 54,
   "metadata": {},
   "outputs": [],
   "source": [
    "max_SS_by_ox=numpy.zeros((5,2))\n",
    "max_SS_by_ox[:,0]=(0,0.25,0.5,0.75,1)\n",
    "max_SS_by_ox[:,1]=(full_dataset[SS_all_ox_peak_index,19],full_dataset[SS_all_ox_peak_index,18],full_dataset[SS_all_ox_peak_index,17],full_dataset[SS_all_ox_peak_index,16],full_dataset[SS_all_ox_peak_index,15])"
   ]
  },
  {
   "cell_type": "code",
   "execution_count": 55,
   "metadata": {},
   "outputs": [
    {
     "data": {
      "text/plain": [
       "[<matplotlib.lines.Line2D at 0x296d894fbe0>]"
      ]
     },
     "execution_count": 55,
     "metadata": {},
     "output_type": "execute_result"
    },
    {
     "data": {
      "image/png": "[encoded data removed]",
      "text/plain": [
       "<Figure size 432x288 with 1 Axes>"
      ]
     },
     "metadata": {
      "needs_background": "light"
     },
     "output_type": "display_data"
    }
   ],
   "source": [
    "# Plot the height of the SS peak at the x-value of the oxidized maximum\n",
    "fig8 = plt.figure(8)\n",
    "plt.suptitle('S-S Peak Size',y = 1, fontsize = 'x-large')\n",
    "plt.xlabel('Percentage Oxidized Glutathione')\n",
    "plt.ylabel('S-S Peak Height')\n",
    "plt.plot(max_SS_by_ox[:,0], max_SS_by_ox[:,1])"
   ]
  },
  {
   "cell_type": "code",
   "execution_count": 56,
   "metadata": {},
   "outputs": [],
   "source": [
    "check_7 = (full_dataset[:,0]>2560)*(full_dataset[:,0]<2600)\n",
    "check_7_results = numpy.where(check_7)\n",
    "SH_int_range = check_7_results[0]\n",
    "SH_int_lower_bound = SH_int_range[0]\n",
    "SH_int_upper_bound = SH_int_range[len(SH_int_range)-1]"
   ]
  },
  {
   "cell_type": "code",
   "execution_count": 57,
   "metadata": {},
   "outputs": [],
   "source": [
    "check_8 = (full_dataset[:,0]>500)*(full_dataset[:,0]<540)\n",
    "check_8_results = numpy.where(check_8)\n",
    "SS_int_range = check_8_results[0]\n",
    "SS_int_lower_bound = SS_int_range[0]\n",
    "SS_int_upper_bound = SS_int_range[len(SS_int_range)-1]"
   ]
  },
  {
   "cell_type": "code",
   "execution_count": 58,
   "metadata": {},
   "outputs": [],
   "source": [
    "SH_sum_all_ox = sum(full_dataset[SH_int_lower_bound:SH_int_upper_bound,10])\n",
    "SH_sum_three_one = sum(full_dataset[SH_int_lower_bound:SH_int_upper_bound,11])\n",
    "SH_sum_half_half = sum(full_dataset[SH_int_lower_bound:SH_int_upper_bound,12])\n",
    "SH_sum_one_three = sum(full_dataset[SH_int_lower_bound:SH_int_upper_bound,13])\n",
    "SH_sum_all_red = sum(full_dataset[SH_int_lower_bound:SH_int_upper_bound,14])\n",
    "\n",
    "sum_SH=numpy.zeros((5,2))\n",
    "sum_SH[:,0]=(0,0.25,0.5,0.75,1)\n",
    "sum_SH[:,1]=(SH_sum_all_ox,SH_sum_three_one,SH_sum_half_half,SH_sum_one_three,SH_sum_all_red)"
   ]
  },
  {
   "cell_type": "code",
   "execution_count": 59,
   "metadata": {},
   "outputs": [
    {
     "data": {
      "text/plain": [
       "[<matplotlib.lines.Line2D at 0x296d89b70a0>]"
      ]
     },
     "execution_count": 59,
     "metadata": {},
     "output_type": "execute_result"
    },
    {
     "data": {
      "image/png": "[encoded data removed]",
      "text/plain": [
       "<Figure size 432x288 with 1 Axes>"
      ]
     },
     "metadata": {
      "needs_background": "light"
     },
     "output_type": "display_data"
    }
   ],
   "source": [
    "# Plot the sum under the SH peak\n",
    "fig9 = plt.figure(9)\n",
    "plt.suptitle('SH Sum From 2560 to 2600',y = 1, fontsize = 'x-large')\n",
    "plt.xlabel('Percentage Reduced Glutathione')\n",
    "plt.ylabel('SH Peak Intensity Sum')\n",
    "plt.plot(sum_SH[:,0], sum_SH[:,1])"
   ]
  },
  {
   "cell_type": "code",
   "execution_count": 60,
   "metadata": {},
   "outputs": [],
   "source": [
    "SS_sum_all_ox = sum(full_dataset[SS_int_lower_bound:SS_int_upper_bound,15])\n",
    "SS_sum_three_one = sum(full_dataset[SS_int_lower_bound:SS_int_upper_bound,16])\n",
    "SS_sum_half_half = sum(full_dataset[SS_int_lower_bound:SS_int_upper_bound,17])\n",
    "SS_sum_one_three = sum(full_dataset[SS_int_lower_bound:SS_int_upper_bound,18])\n",
    "SS_sum_all_red = sum(full_dataset[SS_int_lower_bound:SS_int_upper_bound,19])\n",
    "\n",
    "sum_SS=numpy.zeros((5,2))\n",
    "sum_SS[:,0]=(0,0.25,0.5,0.75,1)\n",
    "sum_SS[:,1]=(SS_sum_all_red,SS_sum_one_three,SS_sum_half_half,SS_sum_three_one,SS_sum_all_ox)"
   ]
  },
  {
   "cell_type": "code",
   "execution_count": 61,
   "metadata": {},
   "outputs": [
    {
     "data": {
      "text/plain": [
       "[<matplotlib.lines.Line2D at 0x296d8a086d0>]"
      ]
     },
     "execution_count": 61,
     "metadata": {},
     "output_type": "execute_result"
    },
    {
     "data": {
      "image/png": "[encoded data removed]",
      "text/plain": [
       "<Figure size 432x288 with 1 Axes>"
      ]
     },
     "metadata": {
      "needs_background": "light"
     },
     "output_type": "display_data"
    }
   ],
   "source": [
    "# Plot the sum under the SS peak\n",
    "fig10 = plt.figure(10)\n",
    "plt.suptitle('SS Sum From 500 to 540',y = 1, fontsize = 'x-large')\n",
    "plt.xlabel('Percentage Oxidized Glutathione')\n",
    "plt.ylabel('SS Peak Intensity Sum')\n",
    "plt.plot(sum_SS[:,0], sum_SS[:,1])"
   ]
  },
  {
   "cell_type": "code",
   "execution_count": 62,
   "metadata": {},
   "outputs": [],
   "source": [
    "# First, open a window which asks for a file name, saving the user input as a global variable\n",
    "\n",
    "ROOT = Tk()\n",
    "ROOT.withdraw()\n",
    "global USER_INP\n",
    "USER_INP = StringVar()\n",
    "# the input dialog\n",
    "USER_INP = simpledialog.askstring(title=\"C-H-Scaled Combined Spectrum File Name\",\n",
    "                                  prompt=\"What would you like the scaled combined spectrum to be called?\")\n",
    "ROOT.destroy()\n",
    "\n",
    "# Now, have user select a folder in which to store the graph file\n",
    "\n",
    "FotaGui = Tk()\n",
    "Browsebutton = Button(FotaGui,width = 15,text= \"Select\",command = file_path2)\n",
    "Browsebutton.pack()\n",
    "Generatebutton = Button(FotaGui,text=\"Generate\",command = generate2)\n",
    "Generatebutton.pack()\n",
    "newfilepathlabel = Label(FotaGui,text = \"File path:\",font = ('Times 10'))\n",
    "newfilepathlabel.pack()\n",
    "instructionslabel = Label(FotaGui,text = \"SELECT FOLDER TO SAVE SCALED COMBINED SPECTRUM\",font = ('Times 13'))\n",
    "instructionslabel.pack()\n",
    "instructions2label = Label(FotaGui,text = \"Select folder in the new window by clicking Browse\",font = ('Times 10'))\n",
    "instructions2label.pack()\n",
    "instructions3label = Label(FotaGui,text = \"Then click generate, then done.\",font = ('Times 10'))\n",
    "instructions3label.pack()\n",
    "Donebutton = Button(FotaGui,text=\"Done\",command = FotaGui.destroy)\n",
    "Donebutton.pack()\n",
    "FotaGui.mainloop()\n",
    "\n",
    "# Finally, save the combination of the folder path and file name as a new file path\n",
    "fig2path = newfilepath+\"/\"+USER_INP+\".png\"\n",
    "\n",
    "# Selecting saving file path from: https://stackoverflow.com/questions/11295917/how-to-select-a-directory-and-store-the-location-using-tkinter-in-python\n",
    "# User Text Input code from: https://djangocentral.com/creating-user-input-dialog/"
   ]
  },
  {
   "cell_type": "code",
   "execution_count": 63,
   "metadata": {},
   "outputs": [],
   "source": [
    "ROOT = Tk()\n",
    "ROOT.withdraw()\n",
    "global USER_INP\n",
    "USER_INP = StringVar()\n",
    "# the input dialog\n",
    "USER_INP = simpledialog.askstring(title=\"Baseline Corrected S-H Peak File Name\",\n",
    "                                  prompt=\"What would you like the baseline-corrected S-H Peak file to be called?\")\n",
    "ROOT.destroy()\n",
    "\n",
    "FotaGui = Tk()\n",
    "Browsebutton = Button(FotaGui,width = 15,text= \"Select\",command = file_path2)\n",
    "Browsebutton.pack()\n",
    "Generatebutton = Button(FotaGui,text=\"Generate\",command = generate2)\n",
    "Generatebutton.pack()\n",
    "newfilepathlabel = Label(FotaGui,text = \"File path:\",font = ('Times 10'))\n",
    "newfilepathlabel.pack()\n",
    "instructionslabel = Label(FotaGui,text = \"SELECT FOLDER TO SAVE BASELINE-CORRECTED S-H PEAK\",font = ('Times 13'))\n",
    "instructionslabel.pack()\n",
    "instructions2label = Label(FotaGui,text = \"Select folder in the new window by clicking Browse\",font = ('Times 10'))\n",
    "instructions2label.pack()\n",
    "instructions3label = Label(FotaGui,text = \"Then click generate, then done.\",font = ('Times 10'))\n",
    "instructions3label.pack()\n",
    "Donebutton = Button(FotaGui,text=\"Done\",command = FotaGui.destroy)\n",
    "Donebutton.pack()\n",
    "FotaGui.mainloop()\n",
    "\n",
    "fig5path = newfilepath+\"/\"+USER_INP+\".png\""
   ]
  },
  {
   "cell_type": "code",
   "execution_count": 64,
   "metadata": {},
   "outputs": [],
   "source": [
    "ROOT = Tk()\n",
    "ROOT.withdraw()\n",
    "global USER_INP\n",
    "USER_INP = StringVar()\n",
    "# the input dialog\n",
    "USER_INP = simpledialog.askstring(title=\"Baseline Corrected S-S Peak File Name\",\n",
    "                                  prompt=\"What would you like the baseline-corrected S-S Peak file to be called?\")\n",
    "ROOT.destroy()\n",
    "\n",
    "FotaGui = Tk()\n",
    "Browsebutton = Button(FotaGui,width = 15,text= \"Select\",command = file_path2)\n",
    "Browsebutton.pack()\n",
    "Generatebutton = Button(FotaGui,text=\"Generate\",command = generate2)\n",
    "Generatebutton.pack()\n",
    "newfilepathlabel = Label(FotaGui,text = \"File path:\",font = ('Times 10'))\n",
    "newfilepathlabel.pack()\n",
    "instructionslabel = Label(FotaGui,text = \"SELECT FOLDER TO SAVE BASELINE-CORRECTED S-S PEAK\",font = ('Times 13'))\n",
    "instructionslabel.pack()\n",
    "instructions2label = Label(FotaGui,text = \"Select folder in the new window by clicking Browse\",font = ('Times 10'))\n",
    "instructions2label.pack()\n",
    "instructions3label = Label(FotaGui,text = \"Then click generate, then done.\",font = ('Times 10'))\n",
    "instructions3label.pack()\n",
    "Donebutton = Button(FotaGui,text=\"Done\",command = FotaGui.destroy)\n",
    "Donebutton.pack()\n",
    "FotaGui.mainloop()\n",
    "\n",
    "fig6path = newfilepath+\"/\"+USER_INP+\".png\""
   ]
  },
  {
   "cell_type": "code",
   "execution_count": 65,
   "metadata": {},
   "outputs": [],
   "source": [
    "ROOT = Tk()\n",
    "ROOT.withdraw()\n",
    "global USER_INP\n",
    "USER_INP = StringVar()\n",
    "# the input dialog\n",
    "USER_INP = simpledialog.askstring(title=\"S-H Peak Maximum File Name\",\n",
    "                                  prompt=\"What would you like the S-H Peak Maximum file to be called?\")\n",
    "ROOT.destroy()\n",
    "\n",
    "FotaGui = Tk()\n",
    "Browsebutton = Button(FotaGui,width = 15,text= \"Select\",command = file_path2)\n",
    "Browsebutton.pack()\n",
    "Generatebutton = Button(FotaGui,text=\"Generate\",command = generate2)\n",
    "Generatebutton.pack()\n",
    "newfilepathlabel = Label(FotaGui,text = \"File path:\",font = ('Times 10'))\n",
    "newfilepathlabel.pack()\n",
    "instructionslabel = Label(FotaGui,text = \"SELECT FOLDER TO SAVE SH PEAK MAXIMUM GRAPH\",font = ('Times 13'))\n",
    "instructionslabel.pack()\n",
    "instructions2label = Label(FotaGui,text = \"Select folder in the new window by clicking Browse\",font = ('Times 10'))\n",
    "instructions2label.pack()\n",
    "instructions3label = Label(FotaGui,text = \"Then click generate, then done.\",font = ('Times 10'))\n",
    "instructions3label.pack()\n",
    "Donebutton = Button(FotaGui,text=\"Done\",command = FotaGui.destroy)\n",
    "Donebutton.pack()\n",
    "FotaGui.mainloop()\n",
    "\n",
    "fig7path = newfilepath+\"/\"+USER_INP+\".png\""
   ]
  },
  {
   "cell_type": "code",
   "execution_count": 66,
   "metadata": {},
   "outputs": [],
   "source": [
    "ROOT = Tk()\n",
    "ROOT.withdraw()\n",
    "global USER_INP\n",
    "USER_INP = StringVar()\n",
    "# the input dialog\n",
    "USER_INP = simpledialog.askstring(title=\"S-S Peak Maximum File Name\",\n",
    "                                  prompt=\"What would you like the S-S Peak Maximum file to be called?\")\n",
    "ROOT.destroy()\n",
    "\n",
    "FotaGui = Tk()\n",
    "Browsebutton = Button(FotaGui,width = 15,text= \"Select\",command = file_path2)\n",
    "Browsebutton.pack()\n",
    "Generatebutton = Button(FotaGui,text=\"Generate\",command = generate2)\n",
    "Generatebutton.pack()\n",
    "newfilepathlabel = Label(FotaGui,text = \"File path:\",font = ('Times 10'))\n",
    "newfilepathlabel.pack()\n",
    "instructionslabel = Label(FotaGui,text = \"SELECT FOLDER TO SAVE SS PEAK MAXIMUM GRAPH\",font = ('Times 13'))\n",
    "instructionslabel.pack()\n",
    "instructions2label = Label(FotaGui,text = \"Select folder in the new window by clicking Browse\",font = ('Times 10'))\n",
    "instructions2label.pack()\n",
    "instructions3label = Label(FotaGui,text = \"Then click generate, then done.\",font = ('Times 10'))\n",
    "instructions3label.pack()\n",
    "Donebutton = Button(FotaGui,text=\"Done\",command = FotaGui.destroy)\n",
    "Donebutton.pack()\n",
    "FotaGui.mainloop()\n",
    "\n",
    "fig8path = newfilepath+\"/\"+USER_INP+\".png\""
   ]
  },
  {
   "cell_type": "code",
   "execution_count": 67,
   "metadata": {},
   "outputs": [],
   "source": [
    "ROOT = Tk()\n",
    "ROOT.withdraw()\n",
    "global USER_INP\n",
    "USER_INP = StringVar()\n",
    "# the input dialog\n",
    "USER_INP = simpledialog.askstring(title=\"S-H Peak Sum File Name\",\n",
    "                                  prompt=\"What would you like the S-H Peak Sum file to be called?\")\n",
    "ROOT.destroy()\n",
    "\n",
    "FotaGui = Tk()\n",
    "Browsebutton = Button(FotaGui,width = 15,text= \"Select\",command = file_path2)\n",
    "Browsebutton.pack()\n",
    "Generatebutton = Button(FotaGui,text=\"Generate\",command = generate2)\n",
    "Generatebutton.pack()\n",
    "newfilepathlabel = Label(FotaGui,text = \"File path:\",font = ('Times 10'))\n",
    "newfilepathlabel.pack()\n",
    "instructionslabel = Label(FotaGui,text = \"SELECT FOLDER TO SAVE SH PEAK SUM GRAPH\",font = ('Times 13'))\n",
    "instructionslabel.pack()\n",
    "instructions2label = Label(FotaGui,text = \"Select folder in the new window by clicking Browse\",font = ('Times 10'))\n",
    "instructions2label.pack()\n",
    "instructions3label = Label(FotaGui,text = \"Then click generate, then done.\",font = ('Times 10'))\n",
    "instructions3label.pack()\n",
    "Donebutton = Button(FotaGui,text=\"Done\",command = FotaGui.destroy)\n",
    "Donebutton.pack()\n",
    "FotaGui.mainloop()\n",
    "\n",
    "fig9path = newfilepath+\"/\"+USER_INP+\".png\""
   ]
  },
  {
   "cell_type": "code",
   "execution_count": 68,
   "metadata": {},
   "outputs": [],
   "source": [
    "ROOT = Tk()\n",
    "ROOT.withdraw()\n",
    "global USER_INP\n",
    "USER_INP = StringVar()\n",
    "# the input dialog\n",
    "USER_INP = simpledialog.askstring(title=\"S-S Peak Sum File Name\",\n",
    "                                  prompt=\"What would you like the S-S Peak Sum file to be called?\")\n",
    "ROOT.destroy()\n",
    "\n",
    "FotaGui = Tk()\n",
    "Browsebutton = Button(FotaGui,width = 15,text= \"Select\",command = file_path2)\n",
    "Browsebutton.pack()\n",
    "Generatebutton = Button(FotaGui,text=\"Generate\",command = generate2)\n",
    "Generatebutton.pack()\n",
    "newfilepathlabel = Label(FotaGui,text = \"File path:\",font = ('Times 10'))\n",
    "newfilepathlabel.pack()\n",
    "instructionslabel = Label(FotaGui,text = \"SELECT FOLDER TO SAVE SS PEAK SUM GRAPH\",font = ('Times 13'))\n",
    "instructionslabel.pack()\n",
    "instructions2label = Label(FotaGui,text = \"Select folder in the new window by clicking Browse\",font = ('Times 10'))\n",
    "instructions2label.pack()\n",
    "instructions3label = Label(FotaGui,text = \"Then click generate, then done.\",font = ('Times 10'))\n",
    "instructions3label.pack()\n",
    "Donebutton = Button(FotaGui,text=\"Done\",command = FotaGui.destroy)\n",
    "Donebutton.pack()\n",
    "FotaGui.mainloop()\n",
    "\n",
    "fig10path = newfilepath+\"/\"+USER_INP+\".png\""
   ]
  },
  {
   "cell_type": "code",
   "execution_count": 69,
   "metadata": {},
   "outputs": [],
   "source": [
    "# Save the final graph files to the desired folder with the desired name, and at a high DPI for clarity\n",
    "fig2.savefig(fig2path,dpi=150)\n",
    "\n",
    "fig5.savefig(fig5path,dpi=150)\n",
    "\n",
    "fig6.savefig(fig6path,dpi=150)\n",
    "\n",
    "fig7.savefig(fig7path,dpi=150)\n",
    "\n",
    "fig8.savefig(fig8path,dpi=150)\n",
    "\n",
    "fig9.savefig(fig9path,dpi=150)\n",
    "\n",
    "fig10.savefig(fig10path,dpi=150)\n",
    "# File saving code from: https://festivalmusicasacra.org/9524621/how-to-save-a-figure-in-matplotlib-by-its-variable-name\n",
    "# and: https://matplotlib.org/3.3.3/api/_as_gen/matplotlib.pyplot.savefig.html"
   ]
  },
  {
   "cell_type": "code",
   "execution_count": null,
   "metadata": {},
   "outputs": [],
   "source": []
  }
 ],
 "metadata": {
  "kernelspec": {
   "display_name": "Python 3",
   "language": "python",
   "name": "python3"
  },
  "language_info": {
   "codemirror_mode": {
    "name": "ipython",
    "version": 3
   },
   "file_extension": ".py",
   "mimetype": "text/x-python",
   "name": "python",
   "nbconvert_exporter": "python",
   "pygments_lexer": "ipython3",
   "version": "3.8.5"
  }
 },
 "nbformat": 4,
 "nbformat_minor": 4
}
