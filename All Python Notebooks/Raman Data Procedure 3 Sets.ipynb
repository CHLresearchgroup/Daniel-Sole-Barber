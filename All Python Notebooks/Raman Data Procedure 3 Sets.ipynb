{
 "cells": [
  {
   "cell_type": "markdown",
   "metadata": {},
   "source": [
    "# Raman Data Procedure - 3 Sets"
   ]
  },
  {
   "cell_type": "code",
   "execution_count": 2,
   "metadata": {},
   "outputs": [],
   "source": [
    "import os\n",
    "import numpy\n",
    "import scipy.optimize as optimize\n",
    "import matplotlib.pyplot as plt\n",
    "from tkinter import *\n",
    "from tkinter import filedialog,messagebox,simpledialog"
   ]
  },
  {
   "cell_type": "code",
   "execution_count": 3,
   "metadata": {},
   "outputs": [],
   "source": [
    "# Code for file browsing from: https://www.codeproject.com/Questions/5259953/Python-tkinter-store-the-filepath-of-a-browsed-fil\n",
    "# Save file path for fetched ASCII files\n",
    "def file_path():\n",
    "        \n",
    "        global filepath\n",
    "        filepath = StringVar()\n",
    "        if(filepath == \"\"):\n",
    "            filepath = filedialog.askopenfilename(initialdir = os.getcwd(), title = \"select a file\", filetypes = [(\"txt files\", \"*.txt\")])\n",
    "        else:\n",
    "            filepath = filedialog.askopenfilename(initialdir=filepath, title = \"select a file\", filetypes = [(\"txt files\", \"*.txt\")])"
   ]
  },
  {
   "cell_type": "code",
   "execution_count": 4,
   "metadata": {},
   "outputs": [],
   "source": [
    "# Display selected file path\n",
    "def generate():\n",
    "        \n",
    "       #Validation of entry fields, if left empty.\n",
    "        if filepath == \"\":\n",
    "            messagebox.showinfo('Information','please browse')\n",
    "        else:\n",
    "            filepathlabel.config(text=filepath)"
   ]
  },
  {
   "cell_type": "code",
   "execution_count": 5,
   "metadata": {},
   "outputs": [],
   "source": [
    "# Save file path of desired folder for saving graphs\n",
    "def file_path2():\n",
    "        \n",
    "        global newfilepath\n",
    "        newfilepath = StringVar()\n",
    "        if(newfilepath == \"\"):\n",
    "            newfilepath = filedialog.askdirectory(initialdir = os.getcwd(), title = \"select a folder\")\n",
    "        else:\n",
    "            newfilepath = filedialog.askdirectory(initialdir=newfilepath, title = \"select a folder\")"
   ]
  },
  {
   "cell_type": "code",
   "execution_count": 6,
   "metadata": {},
   "outputs": [],
   "source": [
    "# Display selected file path\n",
    "def generate2():\n",
    "        \n",
    "       #Validation of entry fields, if left empty.\n",
    "        if newfilepath == \"\":\n",
    "            messagebox.showinfo('Information','please browse')\n",
    "        else:\n",
    "            newfilepathlabel.config(text=newfilepath)"
   ]
  },
  {
   "cell_type": "code",
   "execution_count": 7,
   "metadata": {},
   "outputs": [],
   "source": [
    "# Save file for 580nm Buffer scan, all following code follows the same structure, shown below\n",
    "# Generate Browse, display (Generate) and Close (Done) buttons, display instructions\n",
    "FotaGui = Tk()\n",
    "Browsebutton = Button(FotaGui,width = 15,text= \"Select\",command = file_path)\n",
    "Browsebutton.pack()\n",
    "Generatebutton = Button(FotaGui,text=\"Generate\",command = generate)\n",
    "Generatebutton.pack()\n",
    "filepathlabel = Label(FotaGui,text = \"File path:\",font = ('Times 10'))\n",
    "filepathlabel.pack()\n",
    "instructionslabel = Label(FotaGui,text = \"SELECT BUFFER 580nm FILE\",font = ('Times 13'))\n",
    "instructionslabel.pack()\n",
    "instructions2label = Label(FotaGui,text = \"Select file, double clicking or clicking open in the new window.\",font = ('Times 10'))\n",
    "instructions2label.pack()\n",
    "instructions3label = Label(FotaGui,text = \"Then click generate, then done.\",font = ('Times 10'))\n",
    "instructions3label.pack()\n",
    "Donebutton = Button(FotaGui,text=\"Done\",command = FotaGui.destroy)\n",
    "Donebutton.pack()\n",
    "FotaGui.mainloop()\n",
    "\n",
    "buffer_580 = numpy.genfromtxt(fname=filepath, delimiter=',')\n",
    "buffer_580 = buffer_580.astype(numpy.float) \n",
    "buffer_580 = numpy.delete(buffer_580,1,1)\n",
    "\n",
    "#numpy delete code from: https://note.nkmk.me/en/python-numpy-delete/"
   ]
  },
  {
   "cell_type": "code",
   "execution_count": 8,
   "metadata": {},
   "outputs": [],
   "source": [
    "#Save file for 610nm Buffer scan\n",
    "FotaGui = Tk()\n",
    "Browsebutton = Button(FotaGui,width = 15,text= \"Select\",command = file_path)\n",
    "Browsebutton.pack()\n",
    "Generatebutton = Button(FotaGui,text=\"Generate\",command = generate)\n",
    "Generatebutton.pack()\n",
    "filepathlabel = Label(FotaGui,text = \"File path:\",font = ('Times 10'))\n",
    "filepathlabel.pack()\n",
    "instructionslabel = Label(FotaGui,text = \"SELECT BUFFER 610nm FILE\",font = ('Times 13'))\n",
    "instructionslabel.pack()\n",
    "instructions2label = Label(FotaGui,text = \"Select file, double clicking or clicking open in the new window.\",font = ('Times 10'))\n",
    "instructions2label.pack()\n",
    "instructions3label = Label(FotaGui,text = \"Then click generate, then done.\",font = ('Times 10'))\n",
    "instructions3label.pack()\n",
    "Donebutton = Button(FotaGui,text=\"Done\",command = FotaGui.destroy)\n",
    "Donebutton.pack()\n",
    "FotaGui.mainloop()\n",
    "\n",
    "buffer_610 = numpy.genfromtxt(fname=filepath, delimiter=',')\n",
    "buffer_610 = buffer_610.astype(numpy.float) \n",
    "buffer_610 = numpy.delete(buffer_610,1,1)"
   ]
  },
  {
   "cell_type": "code",
   "execution_count": 9,
   "metadata": {},
   "outputs": [],
   "source": [
    "#Generate Half-Half 580nm file\n",
    "FotaGui = Tk()\n",
    "Browsebutton = Button(FotaGui,width = 15,text= \"Select\",command = file_path)\n",
    "Browsebutton.pack()\n",
    "Generatebutton = Button(FotaGui,text=\"Generate\",command = generate)\n",
    "Generatebutton.pack()\n",
    "filepathlabel = Label(FotaGui,text = \"File path:\",font = ('Times 10'))\n",
    "filepathlabel.pack()\n",
    "instructionslabel = Label(FotaGui,text = \"SELECT HALF-HALF 580nm FILE\",font = ('Times 13'))\n",
    "instructionslabel.pack()\n",
    "instructions2label = Label(FotaGui,text = \"Select file, double clicking or clicking open in the new window.\",font = ('Times 10'))\n",
    "instructions2label.pack()\n",
    "instructions3label = Label(FotaGui,text = \"Then click generate, then done.\",font = ('Times 10'))\n",
    "instructions3label.pack()\n",
    "Donebutton = Button(FotaGui,text=\"Done\",command = FotaGui.destroy)\n",
    "Donebutton.pack()\n",
    "FotaGui.mainloop()\n",
    "\n",
    "half_half_580 = numpy.genfromtxt(fname=filepath, delimiter=',')\n",
    "half_half_580 = half_half_580.astype(numpy.float)\n",
    "half_half_580 = numpy.delete(half_half_580,1,1)"
   ]
  },
  {
   "cell_type": "code",
   "execution_count": 10,
   "metadata": {},
   "outputs": [],
   "source": [
    "FotaGui = Tk()\n",
    "Browsebutton = Button(FotaGui,width = 15,text= \"Select\",command = file_path)\n",
    "Browsebutton.pack()\n",
    "Generatebutton = Button(FotaGui,text=\"Generate\",command = generate)\n",
    "Generatebutton.pack()\n",
    "filepathlabel = Label(FotaGui,text = \"File path:\",font = ('Times 10'))\n",
    "filepathlabel.pack()\n",
    "instructionslabel = Label(FotaGui,text = \"SELECT HALF-HALF 610nm FILE\",font = ('Times 13'))\n",
    "instructionslabel.pack()\n",
    "instructions2label = Label(FotaGui,text = \"Select file, double clicking or clicking open in the new window.\",font = ('Times 10'))\n",
    "instructions2label.pack()\n",
    "instructions3label = Label(FotaGui,text = \"Then click generate, then done.\",font = ('Times 10'))\n",
    "instructions3label.pack()\n",
    "Donebutton = Button(FotaGui,text=\"Done\",command = FotaGui.destroy)\n",
    "Donebutton.pack()\n",
    "FotaGui.mainloop()\n",
    "\n",
    "half_half_610 = numpy.genfromtxt(fname=filepath, delimiter=',')\n",
    "half_half_610 = half_half_610.astype(numpy.float)\n",
    "half_half_610 = numpy.delete(half_half_610,1,1)"
   ]
  },
  {
   "cell_type": "code",
   "execution_count": 11,
   "metadata": {},
   "outputs": [],
   "source": [
    "FotaGui = Tk()\n",
    "Browsebutton = Button(FotaGui,width = 15,text= \"Select\",command = file_path)\n",
    "Browsebutton.pack()\n",
    "Generatebutton = Button(FotaGui,text=\"Generate\",command = generate)\n",
    "Generatebutton.pack()\n",
    "filepathlabel = Label(FotaGui,text = \"File path:\",font = ('Times 10'))\n",
    "filepathlabel.pack()\n",
    "instructionslabel = Label(FotaGui,text = \"SELECT 100% REDUCED 580nm FILE\",font = ('Times 13'))\n",
    "instructionslabel.pack()\n",
    "instructions2label = Label(FotaGui,text = \"Select file, double clicking or clicking open in the new window.\",font = ('Times 10'))\n",
    "instructions2label.pack()\n",
    "instructions3label = Label(FotaGui,text = \"Then click generate, then done.\",font = ('Times 10'))\n",
    "instructions3label.pack()\n",
    "Donebutton = Button(FotaGui,text=\"Done\",command = FotaGui.destroy)\n",
    "Donebutton.pack()\n",
    "FotaGui.mainloop()\n",
    "\n",
    "all_red_580 = numpy.genfromtxt(fname=filepath, delimiter=',')\n",
    "all_red_580 = all_red_580.astype(numpy.float)\n",
    "all_red_580 = numpy.delete(all_red_580,1,1)"
   ]
  },
  {
   "cell_type": "code",
   "execution_count": 12,
   "metadata": {},
   "outputs": [],
   "source": [
    "FotaGui = Tk()\n",
    "Browsebutton = Button(FotaGui,width = 15,text= \"Select\",command = file_path)\n",
    "Browsebutton.pack()\n",
    "Generatebutton = Button(FotaGui,text=\"Generate\",command = generate)\n",
    "Generatebutton.pack()\n",
    "filepathlabel = Label(FotaGui,text = \"File path:\",font = ('Times 10'))\n",
    "filepathlabel.pack()\n",
    "instructionslabel = Label(FotaGui,text = \"SELECT 100% REDUCED 610nm FILE\",font = ('Times 13'))\n",
    "instructionslabel.pack()\n",
    "instructions2label = Label(FotaGui,text = \"Select file, double clicking or clicking open in the new window.\",font = ('Times 10'))\n",
    "instructions2label.pack()\n",
    "instructions3label = Label(FotaGui,text = \"Then click generate, then done.\",font = ('Times 10'))\n",
    "instructions3label.pack()\n",
    "Donebutton = Button(FotaGui,text=\"Done\",command = FotaGui.destroy)\n",
    "Donebutton.pack()\n",
    "FotaGui.mainloop()\n",
    "\n",
    "all_red_610 = numpy.genfromtxt(fname=filepath, delimiter=',')\n",
    "all_red_610 = all_red_610.astype(numpy.float)\n",
    "all_red_610 = numpy.delete(all_red_610,1,1)"
   ]
  },
  {
   "cell_type": "code",
   "execution_count": 13,
   "metadata": {},
   "outputs": [],
   "source": [
    "FotaGui = Tk()\n",
    "Browsebutton = Button(FotaGui,width = 15,text= \"Select\",command = file_path)\n",
    "Browsebutton.pack()\n",
    "Generatebutton = Button(FotaGui,text=\"Generate\",command = generate)\n",
    "Generatebutton.pack()\n",
    "filepathlabel = Label(FotaGui,text = \"File path:\",font = ('Times 10'))\n",
    "filepathlabel.pack()\n",
    "instructionslabel = Label(FotaGui,text = \"SELECT 100% OXIDIZED 580nm FILE\",font = ('Times 13'))\n",
    "instructionslabel.pack()\n",
    "instructions2label = Label(FotaGui,text = \"Select file, double clicking or clicking open in the new window.\",font = ('Times 10'))\n",
    "instructions2label.pack()\n",
    "instructions3label = Label(FotaGui,text = \"Then click generate, then done.\",font = ('Times 10'))\n",
    "instructions3label.pack()\n",
    "Donebutton = Button(FotaGui,text=\"Done\",command = FotaGui.destroy)\n",
    "Donebutton.pack()\n",
    "FotaGui.mainloop()\n",
    "\n",
    "all_ox_580 = numpy.genfromtxt(fname=filepath, delimiter=',')\n",
    "all_ox_580 = all_ox_580.astype(numpy.float)\n",
    "all_ox_580 = numpy.delete(all_ox_580,1,1)"
   ]
  },
  {
   "cell_type": "code",
   "execution_count": 14,
   "metadata": {},
   "outputs": [],
   "source": [
    "FotaGui = Tk()\n",
    "Browsebutton = Button(FotaGui,width = 15,text= \"Select\",command = file_path)\n",
    "Browsebutton.pack()\n",
    "Generatebutton = Button(FotaGui,text=\"Generate\",command = generate)\n",
    "Generatebutton.pack()\n",
    "filepathlabel = Label(FotaGui,text = \"File path:\",font = ('Times 10'))\n",
    "filepathlabel.pack()\n",
    "instructionslabel = Label(FotaGui,text = \"SELECT 100% OXIDIZED 610nm FILE\",font = ('Times 13'))\n",
    "instructionslabel.pack()\n",
    "instructions2label = Label(FotaGui,text = \"Select file, double clicking or clicking open in the new window.\",font = ('Times 10'))\n",
    "instructions2label.pack()\n",
    "instructions3label = Label(FotaGui,text = \"Then click generate, then done.\",font = ('Times 10'))\n",
    "instructions3label.pack()\n",
    "Donebutton = Button(FotaGui,text=\"Done\",command = FotaGui.destroy)\n",
    "Donebutton.pack()\n",
    "FotaGui.mainloop()\n",
    "\n",
    "all_ox_610 = numpy.genfromtxt(fname=filepath, delimiter=',')\n",
    "all_ox_610 = all_ox_610.astype(numpy.float) \n",
    "all_ox_610 = numpy.delete(all_ox_610,1,1)"
   ]
  },
  {
   "cell_type": "code",
   "execution_count": 15,
   "metadata": {},
   "outputs": [],
   "source": [
    "FotaGui = Tk()\n",
    "Browsebutton = Button(FotaGui,width = 15,text= \"Select\",command = file_path)\n",
    "Browsebutton.pack()\n",
    "Generatebutton = Button(FotaGui,text=\"Generate\",command = generate)\n",
    "Generatebutton.pack()\n",
    "filepathlabel = Label(FotaGui,text = \"File path:\",font = ('Times 10'))\n",
    "filepathlabel.pack()\n",
    "instructionslabel = Label(FotaGui,text = \"SELECT DARK SCAN FILE\",font = ('Times 13'))\n",
    "instructionslabel.pack()\n",
    "instructions2label = Label(FotaGui,text = \"Select file, double clicking or clicking open in the new window.\",font = ('Times 10'))\n",
    "instructions2label.pack()\n",
    "instructions3label = Label(FotaGui,text = \"Then click generate, then done.\",font = ('Times 10'))\n",
    "instructions3label.pack()\n",
    "Donebutton = Button(FotaGui,text=\"Done\",command = FotaGui.destroy)\n",
    "Donebutton.pack()\n",
    "FotaGui.mainloop()\n",
    "\n",
    "dark_spectrum = numpy.genfromtxt(fname=filepath, delimiter=',')\n",
    "dark_spectrum = dark_spectrum.astype(numpy.float) \n",
    "dark_spectrum = numpy.delete(dark_spectrum,1,1)"
   ]
  },
  {
   "cell_type": "code",
   "execution_count": 16,
   "metadata": {},
   "outputs": [],
   "source": [
    "#Generate Dark Spectrum average value\n",
    "\n",
    "dark_mean = numpy.mean(dark_spectrum[:,1])"
   ]
  },
  {
   "cell_type": "code",
   "execution_count": 17,
   "metadata": {},
   "outputs": [],
   "source": [
    "#Subtract average dark spectrum value from all spectra, generating a new column in each\n",
    "\n",
    "subtracted = numpy.zeros((len(buffer_580),1))\n",
    "for i in range(0,len(buffer_580)):\n",
    "    subtracted[i,0] = buffer_580[i,1]-dark_mean\n",
    "buffer_580 = numpy.append(buffer_580,subtracted,axis=1)\n",
    "\n",
    "subtracted = numpy.zeros((len(buffer_610),1))\n",
    "for i in range(0,len(buffer_610)):\n",
    "    subtracted[i,0] = buffer_610[i,1]-dark_mean\n",
    "buffer_610 = numpy.append(buffer_610,subtracted,axis=1)\n",
    "\n",
    "subtracted = numpy.zeros((len(half_half_580),1))\n",
    "for i in range(0,len(half_half_580)):\n",
    "    subtracted[i,0] = half_half_580[i,1]-dark_mean\n",
    "half_half_580 = numpy.append(half_half_580,subtracted,axis=1)\n",
    "\n",
    "subtracted = numpy.zeros((len(half_half_610),1))\n",
    "for i in range(0,len(half_half_610)):\n",
    "    subtracted[i,0] = half_half_610[i,1]-dark_mean\n",
    "half_half_610 = numpy.append(half_half_610,subtracted,axis=1)\n",
    "\n",
    "subtracted = numpy.zeros((len(all_red_580),1))\n",
    "for i in range(0,len(all_red_580)):\n",
    "    subtracted[i,0] = all_red_580[i,1]-dark_mean\n",
    "all_red_580 = numpy.append(all_red_580,subtracted,axis=1)\n",
    "\n",
    "subtracted = numpy.zeros((len(all_red_610),1))\n",
    "for i in range(0,len(all_red_610)):\n",
    "    subtracted[i,0] = all_red_610[i,1]-dark_mean\n",
    "all_red_610 = numpy.append(all_red_610,subtracted,axis=1)\n",
    "\n",
    "subtracted = numpy.zeros((len(all_ox_580),1))\n",
    "for i in range(0,len(all_ox_580)):\n",
    "    subtracted[i,0] = all_ox_580[i,1]-dark_mean\n",
    "all_ox_580 = numpy.append(all_ox_580,subtracted,axis=1)\n",
    "\n",
    "subtracted = numpy.zeros((len(all_ox_610),1))\n",
    "for i in range(0,len(all_ox_610)):\n",
    "    subtracted[i,0] = all_ox_610[i,1]-dark_mean\n",
    "all_ox_610 = numpy.append(all_ox_610,subtracted,axis=1)\n",
    "\n",
    "#Zeros array code from: https://numpy.org/doc/stable/reference/generated/numpy.zeros.html\n",
    "#Numpy append code from: https://www.w3resource.com/python-exercises/numpy/python-numpy-exercise-86.php"
   ]
  },
  {
   "cell_type": "code",
   "execution_count": 18,
   "metadata": {},
   "outputs": [],
   "source": [
    "#Find index ranges to check for the approximately 1650 water peak for the 580 and 610 spectra\n",
    "\n",
    "check_1 = (buffer_580[:,0]>1630)*(buffer_580[:,0]<1660)\n",
    "check_1_results = numpy.where(check_1)\n",
    "water_580_range = check_1_results[0]\n",
    "\n",
    "check_2 = (buffer_610[:,0]>1630)*(buffer_610[:,0]<1660)\n",
    "check_2_results = numpy.where(check_2)\n",
    "water_610_range = check_2_results[0]\n",
    "#logical check code from: https://stackoverflow.com/questions/26786946/how-to-return-indices-of-values-between-two-numbers-in-numpy-array"
   ]
  },
  {
   "cell_type": "code",
   "execution_count": 19,
   "metadata": {},
   "outputs": [],
   "source": [
    "# Find the height and index of the peak in both halves of the spectrum, to be used to stitch spectra together\n",
    "buffer_580_peak = 0\n",
    "buffer_580_peak_index = 0\n",
    "for i in range (water_580_range[0],water_580_range[len(water_580_range)-1]):\n",
    "    if buffer_580[i,2] > buffer_580_peak:\n",
    "        buffer_580_peak = buffer_580[i,2]\n",
    "        buffer_580_peak_index = i\n",
    "\n",
    "buffer_610_peak = 0\n",
    "buffer_610_peak_index = 0\n",
    "for i in range (water_610_range[0],water_610_range[len(water_610_range)-1]):\n",
    "    if buffer_610[i,2] > buffer_610_peak:\n",
    "        buffer_610_peak = buffer_610[i,2]\n",
    "        buffer_610_peak_index = i\n",
    "\n",
    "#Rescale the 610 buffer values to make this peak have equal height \n",
    "scaled = numpy.zeros((len(buffer_610),1))\n",
    "for i in range(0,len(buffer_610)):\n",
    "    scaled[i,0] = buffer_610[i,2]*(buffer_580_peak/buffer_610_peak)\n",
    "buffer_610 = numpy.append(buffer_610,scaled,axis=1)"
   ]
  },
  {
   "cell_type": "code",
   "execution_count": 20,
   "metadata": {},
   "outputs": [],
   "source": [
    "half_half_580_peak = 0\n",
    "half_half_580_peak_index = 0\n",
    "for i in range (water_580_range[0],water_580_range[len(water_580_range)-1]):\n",
    "    if half_half_580[i,2] > half_half_580_peak:\n",
    "        half_half_580_peak = half_half_580[i,2]\n",
    "        half_half_580_peak_index = i\n",
    "\n",
    "half_half_610_peak = 0\n",
    "half_half_610_peak_index = 0\n",
    "for i in range (water_610_range[0],water_610_range[len(water_610_range)-1]):\n",
    "    if half_half_610[i,2] > half_half_610_peak:\n",
    "        half_half_610_peak = half_half_610[i,2]\n",
    "        half_half_610_peak_index = i\n",
    "\n",
    "#Rescale the 610 buffer values to make this peak have equal height \n",
    "scaled = numpy.zeros((len(half_half_610),1))\n",
    "for i in range(0,len(half_half_610)):\n",
    "    scaled[i,0] = half_half_610[i,2]*(half_half_580_peak/half_half_610_peak)\n",
    "half_half_610 = numpy.append(half_half_610,scaled,axis=1)"
   ]
  },
  {
   "cell_type": "code",
   "execution_count": 21,
   "metadata": {},
   "outputs": [],
   "source": [
    "all_ox_580_peak = 0\n",
    "all_ox_580_peak_index = 0\n",
    "for i in range (water_580_range[0],water_580_range[len(water_580_range)-1]):\n",
    "    if all_ox_580[i,2] > all_ox_580_peak:\n",
    "        all_ox_580_peak = all_ox_580[i,2]\n",
    "        all_ox_580_peak_index = i\n",
    "\n",
    "all_ox_610_peak = 0\n",
    "all_ox_610_peak_index = 0\n",
    "for i in range (water_610_range[0],water_610_range[len(water_610_range)-1]):\n",
    "    if all_ox_610[i,2] > all_ox_610_peak:\n",
    "        all_ox_610_peak = all_ox_610[i,2]\n",
    "        all_ox_610_peak_index = i\n",
    "\n",
    "#Rescale the 610 buffer values to make this peak have equal height \n",
    "scaled = numpy.zeros((len(all_ox_610),1))\n",
    "for i in range(0,len(all_ox_610)):\n",
    "    scaled[i,0] = all_ox_610[i,2]*(all_ox_580_peak/all_ox_610_peak)\n",
    "all_ox_610 = numpy.append(all_ox_610,scaled,axis=1)"
   ]
  },
  {
   "cell_type": "code",
   "execution_count": 22,
   "metadata": {},
   "outputs": [],
   "source": [
    "all_red_580_peak = 0\n",
    "all_red_580_peak_index = 0\n",
    "for i in range (water_580_range[0],water_580_range[len(water_580_range)-1]):\n",
    "    if all_red_580[i,2] > all_red_580_peak:\n",
    "        all_red_580_peak = all_red_580[i,2]\n",
    "        all_red_580_peak_index = i\n",
    "\n",
    "all_red_610_peak = 0\n",
    "all_red_610_peak_index = 0\n",
    "for i in range (water_610_range[0],water_610_range[len(water_610_range)-1]):\n",
    "    if all_red_610[i,2] > all_red_610_peak:\n",
    "        all_red_610_peak = all_red_610[i,2]\n",
    "        all_red_610_peak_index = i\n",
    "\n",
    "#Rescale the 610 buffer values to make this peak have equal height \n",
    "scaled = numpy.zeros((len(all_red_610),1))\n",
    "for i in range(0,len(all_red_610)):\n",
    "    scaled[i,0] = all_red_610[i,2]*(all_red_580_peak/all_red_610_peak)\n",
    "all_red_610 = numpy.append(all_red_610,scaled,axis=1)"
   ]
  },
  {
   "cell_type": "code",
   "execution_count": 23,
   "metadata": {},
   "outputs": [],
   "source": [
    "#Now, we save the minimum cutoff peak from the left half, and the maximum cutoff peak from the right half. This will define the ranges of values to use in the final graphs. \n",
    "peaks_580 = [buffer_580_peak_index,half_half_580_peak_index,all_red_580_peak_index,all_ox_580_peak_index]\n",
    "min_peak_580 = numpy.min(peaks_580)\n",
    "\n",
    "peaks_610 = [buffer_610_peak_index,half_half_610_peak_index,all_red_610_peak_index,all_ox_610_peak_index]\n",
    "max_peak_610 = numpy.max(peaks_610)"
   ]
  },
  {
   "cell_type": "code",
   "execution_count": 24,
   "metadata": {},
   "outputs": [],
   "source": [
    "#Find index ranges for the high water peak to be used during minimization\n",
    "\n",
    "check_3 = (buffer_610[:,0]>3040)*(buffer_610[:,0]<3200)\n",
    "check_3_results = numpy.where(check_3)\n",
    "water_peak_range = check_3_results[0]"
   ]
  },
  {
   "cell_type": "code",
   "execution_count": 25,
   "metadata": {},
   "outputs": [],
   "source": [
    "#Calculate the sum of the squared difference between the buffer and other spectra at the big water peak\n",
    "\n",
    "def opt_fun_half_half(x):\n",
    "    sum_square_dif = 0\n",
    "    for i in range(water_peak_range[0],water_peak_range[len(water_peak_range)-1]): \n",
    "        square_dif = (half_half_610[i,3]-(x*buffer_610[i,3]))**2\n",
    "        sum_square_dif += square_dif\n",
    "    return sum_square_dif\n",
    "\n",
    "def opt_fun_all_red(x):\n",
    "    sum_square_dif = 0\n",
    "    for i in range(water_peak_range[0],water_peak_range[len(water_peak_range)-1]):\n",
    "        square_dif = (all_red_610[i,3]-(x*buffer_610[i,3]))**2\n",
    "        sum_square_dif += square_dif\n",
    "    return sum_square_dif\n",
    "\n",
    "def opt_fun_all_ox(x):\n",
    "    sum_square_dif = 0\n",
    "    for i in range(water_peak_range[0],water_peak_range[len(water_peak_range)-1]):\n",
    "        square_dif = (all_ox_610[i,3]-(x*buffer_610[i,3]))**2\n",
    "        sum_square_dif += square_dif\n",
    "    return sum_square_dif"
   ]
  },
  {
   "cell_type": "code",
   "execution_count": 26,
   "metadata": {},
   "outputs": [],
   "source": [
    "#Minimize the squared difference between the buffer and other respective curves at the region of the big water peak\n",
    "\n",
    "half_half_opt = optimize.minimize(opt_fun_half_half,1)\n",
    "half_half_opt_mult = float(half_half_opt.x)\n",
    "\n",
    "all_red_opt = optimize.minimize(opt_fun_all_red,1)\n",
    "all_red_opt_mult = float(all_red_opt.x)\n",
    "\n",
    "all_ox_opt = optimize.minimize(opt_fun_all_ox,1)\n",
    "all_ox_opt_mult = float(all_ox_opt.x)\n",
    "#Minimization code from: https://stackoverflow.com/questions/19244527/scipy-optimize-how-to-restrict-argument-values\n",
    "#and: https://docs.scipy.org/doc/scipy/reference/generated/scipy.optimize.minimize.html"
   ]
  },
  {
   "cell_type": "code",
   "execution_count": 27,
   "metadata": {},
   "outputs": [],
   "source": [
    "#Generate new columns in all sets of data for this new, buffer subtracted data\n",
    "\n",
    "sub = numpy.zeros((len(half_half_580),1))\n",
    "for i in range(0,len(half_half_580)):\n",
    "    sub[i,0] = half_half_580[i,2]-half_half_opt_mult*buffer_580[i,2]\n",
    "half_half_580 = numpy.append(half_half_580,sub,axis=1)\n",
    "\n",
    "sub = numpy.zeros((len(half_half_610),1))\n",
    "for i in range(0,len(half_half_610)):\n",
    "    sub[i,0] = half_half_610[i,2]-half_half_opt_mult*buffer_610[i,2]\n",
    "half_half_610 = numpy.append(half_half_610,sub,axis=1)\n",
    "\n",
    "sub = numpy.zeros((len(all_red_580),1))\n",
    "for i in range(0,len(all_red_580)):\n",
    "    sub[i,0] = all_red_580[i,2]-all_red_opt_mult*buffer_580[i,2]\n",
    "all_red_580 = numpy.append(all_red_580,sub,axis=1)\n",
    "\n",
    "sub = numpy.zeros((len(all_red_610),1))\n",
    "for i in range(0,len(all_red_610)):\n",
    "    sub[i,0] = all_red_610[i,2]-all_red_opt_mult*buffer_610[i,2]\n",
    "all_red_610 = numpy.append(all_red_610,sub,axis=1)\n",
    "\n",
    "\n",
    "sub = numpy.zeros((len(all_ox_580),1))\n",
    "for i in range(0,len(all_ox_580)):\n",
    "    sub[i,0] = all_ox_580[i,2]-all_ox_opt_mult*buffer_580[i,2]\n",
    "all_ox_580 = numpy.append(all_ox_580,sub,axis=1)\n",
    "\n",
    "sub = numpy.zeros((len(all_ox_610),1))\n",
    "for i in range(0,len(all_ox_610)):\n",
    "    sub[i,0] = all_ox_610[i,2]-all_ox_opt_mult*buffer_610[i,2]\n",
    "all_ox_610 = numpy.append(all_ox_610,sub,axis=1)"
   ]
  },
  {
   "cell_type": "code",
   "execution_count": 28,
   "metadata": {},
   "outputs": [],
   "source": [
    "#Now we need to stitch the datasets together using the maximum and minimum x-values of the lower water peak calculated earlier\n",
    "\n",
    "raman_shifts = numpy.concatenate((buffer_580[0:min_peak_580+1,0], buffer_610[max_peak_610:len(buffer_610),0]), axis=0)\n",
    "\n",
    "half_half_full = numpy.concatenate((half_half_580[0:min_peak_580+1,3], half_half_610[max_peak_610:len(buffer_610),4]), axis=0)\n",
    "\n",
    "all_red_full = numpy.concatenate((all_red_580[0:min_peak_580+1,3], all_red_610[max_peak_610:len(buffer_610),4]), axis=0)\n",
    "\n",
    "all_ox_full = numpy.concatenate((all_ox_580[0:min_peak_580+1,3], all_ox_610[max_peak_610:len(buffer_610),4]), axis=0)\n",
    "\n",
    "full_dataset = numpy.zeros((len(raman_shifts),4))\n",
    "full_dataset[:,0] = raman_shifts\n",
    "full_dataset[:,1] = half_half_full\n",
    "full_dataset[:,2] = all_red_full\n",
    "full_dataset[:,3] = all_ox_full\n",
    "#Concatenate code from: https://numpy.org/doc/stable/reference/generated/numpy.concatenate.html"
   ]
  },
  {
   "cell_type": "code",
   "execution_count": 29,
   "metadata": {},
   "outputs": [
    {
     "data": {
      "text/plain": [
       "<matplotlib.legend.Legend at 0x204bb9b9100>"
      ]
     },
     "execution_count": 29,
     "metadata": {},
     "output_type": "execute_result"
    },
    {
     "data": {
      "image/png": "[encoded data removed]",
      "text/plain": [
       "<Figure size 432x288 with 1 Axes>"
      ]
     },
     "metadata": {
      "needs_background": "light"
     },
     "output_type": "display_data"
    }
   ],
   "source": [
    "# Plot combined raw spectra\n",
    "fig1 = plt.figure(1)\n",
    "plt.suptitle('Combined Raman Spectra',y = 1, fontsize = 'x-large')\n",
    "plt.xlabel('Raman Shift')\n",
    "plt.ylabel('Intensity')\n",
    "plt.plot(full_dataset[:,0], full_dataset[:,1],label = '50/50 Oxidized:Reduced Glutathione', color = 'g')\n",
    "plt.plot(full_dataset[:,0], full_dataset[:,2],label = '100% Reduced Glutathione', color = 'r')\n",
    "plt.plot(full_dataset[:,0], full_dataset[:,3],label = '100% Oxidized Glutathione', color = 'b')\n",
    "plt.legend()\n",
    "\n",
    "#Some graphing code from: https://github.com/CHLresearchgroup/coire/commit/7501c67f6e38b0b81d7932586f8d35f9c292eda8?branch=7501c67f6e38b0b81d7932586f8d35f9c292eda8&diff=unified"
   ]
  },
  {
   "cell_type": "code",
   "execution_count": 30,
   "metadata": {},
   "outputs": [],
   "source": [
    "# Find the index range of the C-H peak\n",
    "check_4 = (full_dataset[:,0]>2800)*(full_dataset[:,0]<3000)\n",
    "check_4_results = numpy.where(check_4)\n",
    "carbon_peak_range = check_4_results[0]"
   ]
  },
  {
   "cell_type": "code",
   "execution_count": 31,
   "metadata": {},
   "outputs": [],
   "source": [
    "# Find C-H peak value in each spectrum, properly scale spectra to this peak\n",
    "\n",
    "half_half_peak = 0\n",
    "for i in range (carbon_peak_range[0],carbon_peak_range[len(carbon_peak_range)-1]):\n",
    "    if full_dataset[i,1] > half_half_peak:\n",
    "        half_half_peak = full_dataset[i,1]\n",
    "        \n",
    "all_red_peak = 0\n",
    "for i in range (carbon_peak_range[0],carbon_peak_range[len(carbon_peak_range)-1]):\n",
    "    if full_dataset[i,2] > all_red_peak:\n",
    "        all_red_peak = full_dataset[i,2]\n",
    "        \n",
    "all_ox_peak = 0\n",
    "for i in range (carbon_peak_range[0],carbon_peak_range[len(carbon_peak_range)-1]):\n",
    "    if full_dataset[i,3] > all_ox_peak:\n",
    "        all_ox_peak = full_dataset[i,3]\n",
    "\n",
    "scaled_all_red = numpy.zeros((len(full_dataset),1))\n",
    "for i in range(0,len(full_dataset)):\n",
    "    scaled_all_red[i,0] = full_dataset[i,2]*(all_ox_peak/all_red_peak)\n",
    "full_dataset = numpy.append(full_dataset,scaled_all_red,axis=1)\n",
    "\n",
    "scaled_half_half = numpy.zeros((len(full_dataset),1))\n",
    "for i in range(0,len(full_dataset)):\n",
    "    scaled_half_half[i,0] = full_dataset[i,1]*(all_ox_peak/half_half_peak)\n",
    "full_dataset = numpy.append(full_dataset,scaled_half_half,axis=1)"
   ]
  },
  {
   "cell_type": "code",
   "execution_count": 32,
   "metadata": {},
   "outputs": [
    {
     "data": {
      "text/plain": [
       "<matplotlib.legend.Legend at 0x204bbd1aee0>"
      ]
     },
     "execution_count": 32,
     "metadata": {},
     "output_type": "execute_result"
    },
    {
     "data": {
      "image/png": "[encoded data removed]",
      "text/plain": [
       "<Figure size 432x288 with 1 Axes>"
      ]
     },
     "metadata": {
      "needs_background": "light"
     },
     "output_type": "display_data"
    }
   ],
   "source": [
    "# Plot rescaled combined spectra\n",
    "fig2 = plt.figure(2)\n",
    "plt.suptitle('Combined (C-H)-Scaled Raman Spectra',y = 1, fontsize = 'x-large')\n",
    "plt.xlabel('Raman Shift')\n",
    "plt.ylabel('Intensity')\n",
    "plt.plot(full_dataset[:,0], full_dataset[:,5],label = '50/50 Oxidized:Reduced Glutathione', color = 'g')\n",
    "plt.plot(full_dataset[:,0], full_dataset[:,4],label = '100% Reduced Glutathione', color = 'r')\n",
    "plt.plot(full_dataset[:,0], full_dataset[:,3],label = '100% Oxidized Glutathione', color = 'b')\n",
    "plt.legend()"
   ]
  },
  {
   "cell_type": "code",
   "execution_count": 35,
   "metadata": {},
   "outputs": [],
   "source": [
    "# Find the index range of the S-H peak\n",
    "check_5 = (full_dataset[:,0]>2500)*(full_dataset[:,0]<2650)\n",
    "check_5_results = numpy.where(check_5)\n",
    "SH_peak_range = check_5_results[0]\n",
    "\n",
    "# Find the index range of the S-S peak\n",
    "check_6 = (full_dataset[:,0]>450)*(full_dataset[:,0]<600)\n",
    "check_6_results = numpy.where(check_6)\n",
    "SS_peak_range = check_6_results[0]"
   ]
  },
  {
   "cell_type": "code",
   "execution_count": 36,
   "metadata": {},
   "outputs": [],
   "source": [
    "# Find S-H peak value in each spectrum, find maximum value among these\n",
    "\n",
    "half_half_peak = 0\n",
    "for i in range (SH_peak_range[0],SH_peak_range[len(SH_peak_range)-1]):\n",
    "    if full_dataset[i,5] > half_half_peak:\n",
    "        half_half_peak = full_dataset[i,5]\n",
    "        \n",
    "all_red_peak = 0\n",
    "for i in range (SH_peak_range[0],SH_peak_range[len(SH_peak_range)-1]):\n",
    "    if full_dataset[i,4] > all_red_peak:\n",
    "        all_red_peak = full_dataset[i,4]\n",
    "        \n",
    "all_ox_peak = 0\n",
    "for i in range (SH_peak_range[0],SH_peak_range[len(SH_peak_range)-1]):\n",
    "    if full_dataset[i,3] > all_ox_peak:\n",
    "        all_ox_peak = full_dataset[i,3]\n",
    "\n",
    "SH_peaks_list = [half_half_peak,all_red_peak,all_ox_peak]\n",
    "SH_peak = numpy.max(SH_peaks_list)"
   ]
  },
  {
   "cell_type": "code",
   "execution_count": 56,
   "metadata": {},
   "outputs": [
    {
     "data": {
      "text/plain": [
       "<matplotlib.legend.Legend at 0x204bfbb8850>"
      ]
     },
     "execution_count": 56,
     "metadata": {},
     "output_type": "execute_result"
    },
    {
     "data": {
      "image/png": "[encoded data removed]",
      "text/plain": [
       "<Figure size 432x288 with 1 Axes>"
      ]
     },
     "metadata": {
      "needs_background": "light"
     },
     "output_type": "display_data"
    }
   ],
   "source": [
    "# Zoom in to the S-H peak\n",
    "fig3 = plt.figure(3)\n",
    "plt.suptitle('Combined S-H Peak',y = 1, fontsize = 'x-large')\n",
    "plt.xlabel('Raman Shift')\n",
    "plt.ylabel('Intensity')\n",
    "plt.plot(full_dataset[:,0], full_dataset[:,5],label = '50/50 Oxidized:Reduced Glutathione', color = 'g')\n",
    "plt.plot(full_dataset[:,0], full_dataset[:,4],label = '100% Reduced Glutathione', color = 'r')\n",
    "plt.plot(full_dataset[:,0], full_dataset[:,3],label = '100% Oxidized Glutathione', color = 'b')\n",
    "plt.xlim(2500,2650)\n",
    "plt.ylim(-1.5*SH_peak,2*SH_peak)\n",
    "plt.legend()"
   ]
  },
  {
   "cell_type": "code",
   "execution_count": 38,
   "metadata": {},
   "outputs": [],
   "source": [
    "# Find S-S peak value in each spectrum, find maximum value among these\n",
    "\n",
    "half_half_peak = 0\n",
    "for i in range (SS_peak_range[0],SS_peak_range[len(SS_peak_range)-1]):\n",
    "    if full_dataset[i,5] > half_half_peak:\n",
    "        half_half_peak = full_dataset[i,5]\n",
    "        \n",
    "all_red_peak = 0\n",
    "for i in range (SS_peak_range[0],SS_peak_range[len(SS_peak_range)-1]):\n",
    "    if full_dataset[i,4] > all_red_peak:\n",
    "        all_red_peak = full_dataset[i,4]\n",
    "        \n",
    "all_ox_peak = 0\n",
    "for i in range (SS_peak_range[0],SS_peak_range[len(SS_peak_range)-1]):\n",
    "    if full_dataset[i,3] > all_ox_peak:\n",
    "        all_ox_peak = full_dataset[i,3]\n",
    "\n",
    "SS_peaks_list = [half_half_peak,all_red_peak,all_ox_peak]\n",
    "SS_peak = numpy.max(SS_peaks_list)"
   ]
  },
  {
   "cell_type": "code",
   "execution_count": 55,
   "metadata": {},
   "outputs": [
    {
     "data": {
      "text/plain": [
       "<matplotlib.legend.Legend at 0x204bfb52d60>"
      ]
     },
     "execution_count": 55,
     "metadata": {},
     "output_type": "execute_result"
    },
    {
     "data": {
      "image/png": "[encoded data removed]",
      "text/plain": [
       "<Figure size 432x288 with 1 Axes>"
      ]
     },
     "metadata": {
      "needs_background": "light"
     },
     "output_type": "display_data"
    }
   ],
   "source": [
    "# Zoom in to the S-S peak\n",
    "fig4 = plt.figure(4)\n",
    "plt.suptitle('Combined S-S Peak',y = 1, fontsize = 'x-large')\n",
    "plt.xlabel('Raman Shift')\n",
    "plt.ylabel('Intensity')\n",
    "plt.plot(full_dataset[:,0], full_dataset[:,5],label = '50/50 Oxidized:Reduced Glutathione', color = 'g')\n",
    "plt.plot(full_dataset[:,0], full_dataset[:,4],label = '100% Reduced Glutathione', color = 'r')\n",
    "plt.plot(full_dataset[:,0], full_dataset[:,3],label = '100% Oxidized Glutathione', color = 'b')\n",
    "plt.xlim(450,600)\n",
    "plt.ylim(-1.5*SS_peak,2*SS_peak)\n",
    "plt.legend()"
   ]
  },
  {
   "cell_type": "code",
   "execution_count": 45,
   "metadata": {},
   "outputs": [],
   "source": [
    "#I will now begin the process of getting all graphs onto the same baseline curve in the regions for the SH and SS curves\n",
    "# Here I get index ranges for these two peaks\n",
    "check_5 = (full_dataset[:,0]>2500)*(full_dataset[:,0]<2650)\n",
    "check_5_results = numpy.where(check_5)\n",
    "SH_range = check_5_results[0]\n",
    "SH_lower_bound = SH_range[0]\n",
    "SH_upper_bound = SH_range[len(SH_range)-1]\n",
    "\n",
    "check_6 = (full_dataset[:,0]>450)*(full_dataset[:,0]<600)\n",
    "check_6_results = numpy.where(check_6)\n",
    "SS_range = check_6_results[0]\n",
    "SS_lower_bound = SS_range[0]\n",
    "SS_upper_bound = SS_range[len(SS_range)-1]"
   ]
  },
  {
   "cell_type": "code",
   "execution_count": 46,
   "metadata": {},
   "outputs": [],
   "source": [
    "# Here I calculate the baselines at the edges of these zoomed in regions, both slope and intercept\n",
    "SH_all_ox_slope = (full_dataset[SH_upper_bound,3]-full_dataset[SH_lower_bound,3])/(full_dataset[SH_upper_bound,0]-full_dataset[SH_lower_bound,0])\n",
    "SH_half_half_slope = (full_dataset[SH_upper_bound,5]-full_dataset[SH_lower_bound,5])/(full_dataset[SH_upper_bound,0]-full_dataset[SH_lower_bound,0])\n",
    "SH_all_red_slope = (full_dataset[SH_upper_bound,4]-full_dataset[SH_lower_bound,4])/(full_dataset[SH_upper_bound,0]-full_dataset[SH_lower_bound,0])\n",
    "\n",
    "SH_all_ox_int = full_dataset[SH_lower_bound,3] - (SH_all_ox_slope * full_dataset[SH_lower_bound,0])\n",
    "SH_half_half_int = full_dataset[SH_lower_bound,5] - (SH_half_half_slope * full_dataset[SH_lower_bound,0])\n",
    "SH_all_red_int = full_dataset[SH_lower_bound,4] - (SH_all_red_slope * full_dataset[SH_lower_bound,0])\n",
    "\n",
    "SS_all_ox_slope = (full_dataset[SS_upper_bound,3]-full_dataset[SS_lower_bound,3])/(full_dataset[SS_upper_bound,0]-full_dataset[SS_lower_bound,0])\n",
    "SS_half_half_slope = (full_dataset[SS_upper_bound,5]-full_dataset[SS_lower_bound,5])/(full_dataset[SS_upper_bound,0]-full_dataset[SS_lower_bound,0])\n",
    "SS_all_red_slope = (full_dataset[SS_upper_bound,4]-full_dataset[SS_lower_bound,4])/(full_dataset[SS_upper_bound,0]-full_dataset[SS_lower_bound,0])\n",
    "\n",
    "SS_all_ox_int = full_dataset[SS_lower_bound,3] - (SS_all_ox_slope * full_dataset[SS_lower_bound,0])\n",
    "SS_half_half_int = full_dataset[SS_lower_bound,5] - (SS_half_half_slope * full_dataset[SS_lower_bound,0])\n",
    "SS_all_red_int = full_dataset[SS_lower_bound,4] - (SS_all_red_slope * full_dataset[SS_lower_bound,0])"
   ]
  },
  {
   "cell_type": "code",
   "execution_count": 47,
   "metadata": {},
   "outputs": [],
   "source": [
    "# I now generate new columns where the baselines are subtracted to lead to a zero baseline in these regions\n",
    "SH_shifted_all_ox = numpy.zeros((len(full_dataset),1))\n",
    "for i in range(0,len(full_dataset)):\n",
    "    SH_shifted_all_ox[i,0] = full_dataset[i,3]-(SH_all_ox_int + (SH_all_ox_slope*full_dataset[i,0]))\n",
    "full_dataset = numpy.append(full_dataset,SH_shifted_all_ox,axis=1) #Col index 6       \n",
    "\n",
    "SH_shifted_half_half = numpy.zeros((len(full_dataset),1))\n",
    "for i in range(0,len(full_dataset)):\n",
    "    SH_shifted_half_half[i,0] = full_dataset[i,5]-(SH_half_half_int + (SH_half_half_slope*full_dataset[i,0]))\n",
    "full_dataset = numpy.append(full_dataset,SH_shifted_half_half,axis=1) #Col index 7  \n",
    "\n",
    "SH_shifted_all_red = numpy.zeros((len(full_dataset),1))\n",
    "for i in range(0,len(full_dataset)):\n",
    "    SH_shifted_all_red[i,0] = full_dataset[i,4]-(SH_all_red_int + (SH_all_red_slope*full_dataset[i,0]))\n",
    "full_dataset = numpy.append(full_dataset,SH_shifted_all_red,axis=1) #Col index 8  "
   ]
  },
  {
   "cell_type": "code",
   "execution_count": 48,
   "metadata": {},
   "outputs": [],
   "source": [
    "SS_shifted_all_ox = numpy.zeros((len(full_dataset),1))\n",
    "for i in range(0,len(full_dataset)):\n",
    "    SS_shifted_all_ox[i,0] = full_dataset[i,3]-(SS_all_ox_int + (SS_all_ox_slope*full_dataset[i,0]))\n",
    "full_dataset = numpy.append(full_dataset,SS_shifted_all_ox,axis=1) #Col index 9       \n",
    "\n",
    "SS_shifted_half_half = numpy.zeros((len(full_dataset),1))\n",
    "for i in range(0,len(full_dataset)):\n",
    "    SS_shifted_half_half[i,0] = full_dataset[i,5]-(SS_half_half_int + (SS_half_half_slope*full_dataset[i,0]))\n",
    "full_dataset = numpy.append(full_dataset,SS_shifted_half_half,axis=1) #Col index 10  \n",
    "\n",
    "SS_shifted_all_red = numpy.zeros((len(full_dataset),1))\n",
    "for i in range(0,len(full_dataset)):\n",
    "    SS_shifted_all_red[i,0] = full_dataset[i,4]-(SS_all_red_int + (SS_all_red_slope*full_dataset[i,0]))\n",
    "full_dataset = numpy.append(full_dataset,SS_shifted_all_red,axis=1) #Col index 11  "
   ]
  },
  {
   "cell_type": "code",
   "execution_count": 49,
   "metadata": {},
   "outputs": [],
   "source": [
    "# Find S-H peak value in each spectrum, find maximum value among these\n",
    "\n",
    "half_half_peak = 0\n",
    "for i in range (SH_peak_range[0],SH_peak_range[len(SH_peak_range)-1]):\n",
    "    if full_dataset[i,7] > half_half_peak:\n",
    "        half_half_peak = full_dataset[i,7]\n",
    "        \n",
    "all_red_peak = 0\n",
    "for i in range (SH_peak_range[0],SH_peak_range[len(SH_peak_range)-1]):\n",
    "    if full_dataset[i,8] > all_red_peak:\n",
    "        all_red_peak = full_dataset[i,8]\n",
    "        \n",
    "all_ox_peak = 0\n",
    "for i in range (SH_peak_range[0],SH_peak_range[len(SH_peak_range)-1]):\n",
    "    if full_dataset[i,6] > all_ox_peak:\n",
    "        all_ox_peak = full_dataset[i,6]\n",
    "\n",
    "SH_peaks_list = [half_half_peak,all_red_peak,all_ox_peak]\n",
    "SH_peak_new = numpy.max(SH_peaks_list)"
   ]
  },
  {
   "cell_type": "code",
   "execution_count": 52,
   "metadata": {},
   "outputs": [
    {
     "data": {
      "text/plain": [
       "<matplotlib.legend.Legend at 0x204bf9c7b20>"
      ]
     },
     "execution_count": 52,
     "metadata": {},
     "output_type": "execute_result"
    },
    {
     "data": {
      "image/png": "[encoded data removed]",
      "text/plain": [
       "<Figure size 432x288 with 1 Axes>"
      ]
     },
     "metadata": {
      "needs_background": "light"
     },
     "output_type": "display_data"
    }
   ],
   "source": [
    "# Plot the baseline-corrected S-H peak\n",
    "fig5 = plt.figure(5)\n",
    "plt.suptitle('Combined S-H Peak with Corrected Baseline',y = 1, fontsize = 'x-large')\n",
    "plt.xlabel('Raman Shift')\n",
    "plt.ylabel('Intensity')\n",
    "plt.plot(full_dataset[:,0], full_dataset[:,7],label = '50/50 Oxidized:Reduced Glutathione', color = 'g')\n",
    "plt.plot(full_dataset[:,0], full_dataset[:,8],label = '100% Reduced Glutathione', color = 'r')\n",
    "plt.plot(full_dataset[:,0], full_dataset[:,6],label = '100% Oxidized Glutathione', color = 'b')\n",
    "plt.xlim(2500,2650)\n",
    "plt.ylim(-0.5*SH_peak_new,2*SH_peak_new)\n",
    "plt.legend()"
   ]
  },
  {
   "cell_type": "code",
   "execution_count": 57,
   "metadata": {},
   "outputs": [],
   "source": [
    "# Find S-H peak value in each spectrum, find maximum value among these\n",
    "\n",
    "half_half_peak = 0\n",
    "for i in range (SS_peak_range[0],SS_peak_range[len(SS_peak_range)-1]):\n",
    "    if full_dataset[i,10] > half_half_peak:\n",
    "        half_half_peak = full_dataset[i,10]\n",
    "        \n",
    "all_red_peak = 0\n",
    "for i in range (SS_peak_range[0],SS_peak_range[len(SS_peak_range)-1]):\n",
    "    if full_dataset[i,11] > all_red_peak:\n",
    "        all_red_peak = full_dataset[i,11]\n",
    "        \n",
    "all_ox_peak = 0\n",
    "for i in range (SS_peak_range[0],SS_peak_range[len(SS_peak_range)-1]):\n",
    "    if full_dataset[i,9] > all_ox_peak:\n",
    "        all_ox_peak = full_dataset[i,9]\n",
    "\n",
    "SS_peaks_list = [half_half_peak,all_red_peak,all_ox_peak]\n",
    "SS_peak_new = numpy.max(SS_peaks_list)"
   ]
  },
  {
   "cell_type": "code",
   "execution_count": 58,
   "metadata": {},
   "outputs": [
    {
     "data": {
      "text/plain": [
       "<matplotlib.legend.Legend at 0x204bfc2e910>"
      ]
     },
     "execution_count": 58,
     "metadata": {},
     "output_type": "execute_result"
    },
    {
     "data": {
      "image/png": "[encoded data removed]",
      "text/plain": [
       "<Figure size 432x288 with 1 Axes>"
      ]
     },
     "metadata": {
      "needs_background": "light"
     },
     "output_type": "display_data"
    }
   ],
   "source": [
    "# Plot the baseline-corrected S-S peak\n",
    "fig6 = plt.figure(6)\n",
    "plt.suptitle('Combined S-S Peak with Corrected Baseline',y = 1, fontsize = 'x-large')\n",
    "plt.xlabel('Raman Shift')\n",
    "plt.ylabel('Intensity')\n",
    "plt.plot(full_dataset[:,0], full_dataset[:,10],label = '50/50 Oxidized:Reduced Glutathione', color = 'g')\n",
    "plt.plot(full_dataset[:,0], full_dataset[:,11],label = '100% Reduced Glutathione', color = 'r')\n",
    "plt.plot(full_dataset[:,0], full_dataset[:,9],label = '100% Oxidized Glutathione', color = 'b')\n",
    "plt.xlim(450,600)\n",
    "plt.ylim(-0.5*SS_peak_new,2*SS_peak_new)\n",
    "plt.legend()"
   ]
  },
  {
   "cell_type": "code",
   "execution_count": 40,
   "metadata": {},
   "outputs": [],
   "source": [
    "# First, open a window which asks for a file name, saving the user input as a global variable\n",
    "\n",
    "ROOT = Tk()\n",
    "ROOT.withdraw()\n",
    "global USER_INP\n",
    "USER_INP = StringVar()\n",
    "# the input dialog\n",
    "USER_INP = simpledialog.askstring(title=\"Raw Combined Spectrum File Name\",\n",
    "                                  prompt=\"What would you like the raw combined spectrum to be called?\")\n",
    "ROOT.destroy()\n",
    "\n",
    "# Now, have user select a folder in which to store the graph file\n",
    "FotaGui = Tk()\n",
    "Browsebutton = Button(FotaGui,width = 15,text= \"Select\",command = file_path2)\n",
    "Browsebutton.pack()\n",
    "Generatebutton = Button(FotaGui,text=\"Generate\",command = generate2)\n",
    "Generatebutton.pack()\n",
    "newfilepathlabel = Label(FotaGui,text = \"File path:\",font = ('Times 10'))\n",
    "newfilepathlabel.pack()\n",
    "instructionslabel = Label(FotaGui,text = \"SELECT FOLDER TO SAVE RAW COMBINED SPECTRUM\",font = ('Times 13'))\n",
    "instructionslabel.pack()\n",
    "instructions2label = Label(FotaGui,text = \"Select folder in the new window by clicking Browse\",font = ('Times 10'))\n",
    "instructions2label.pack()\n",
    "instructions3label = Label(FotaGui,text = \"Then click generate, then done.\",font = ('Times 10'))\n",
    "instructions3label.pack()\n",
    "Donebutton = Button(FotaGui,text=\"Done\",command = FotaGui.destroy)\n",
    "Donebutton.pack()\n",
    "FotaGui.mainloop()\n",
    "\n",
    "# Finally, generate a full file path\n",
    "fig1path = newfilepath+\"/\"+USER_INP+\".png\"\n",
    "\n",
    "# Selecting saving file path from: https://stackoverflow.com/questions/11295917/how-to-select-a-directory-and-store-the-location-using-tkinter-in-python\n",
    "# User Text Input code from: https://djangocentral.com/creating-user-input-dialog/"
   ]
  },
  {
   "cell_type": "code",
   "execution_count": 41,
   "metadata": {},
   "outputs": [],
   "source": [
    "ROOT = Tk()\n",
    "ROOT.withdraw()\n",
    "global USER_INP\n",
    "USER_INP = StringVar()\n",
    "# the input dialog\n",
    "USER_INP = simpledialog.askstring(title=\"C-H-Scaled Combined Spectrum File Name\",\n",
    "                                  prompt=\"What would you like the scaled combined spectrum to be called?\")\n",
    "ROOT.destroy()\n",
    "\n",
    "FotaGui = Tk()\n",
    "Browsebutton = Button(FotaGui,width = 15,text= \"Select\",command = file_path2)\n",
    "Browsebutton.pack()\n",
    "Generatebutton = Button(FotaGui,text=\"Generate\",command = generate2)\n",
    "Generatebutton.pack()\n",
    "newfilepathlabel = Label(FotaGui,text = \"File path:\",font = ('Times 10'))\n",
    "newfilepathlabel.pack()\n",
    "instructionslabel = Label(FotaGui,text = \"SELECT FOLDER TO SAVE SCALED COMBINED SPECTRUM\",font = ('Times 13'))\n",
    "instructionslabel.pack()\n",
    "instructions2label = Label(FotaGui,text = \"Select folder in the new window by clicking Browse\",font = ('Times 10'))\n",
    "instructions2label.pack()\n",
    "instructions3label = Label(FotaGui,text = \"Then click generate, then done.\",font = ('Times 10'))\n",
    "instructions3label.pack()\n",
    "Donebutton = Button(FotaGui,text=\"Done\",command = FotaGui.destroy)\n",
    "Donebutton.pack()\n",
    "FotaGui.mainloop()\n",
    "\n",
    "fig2path = newfilepath+\"/\"+USER_INP+\".png\""
   ]
  },
  {
   "cell_type": "code",
   "execution_count": 42,
   "metadata": {},
   "outputs": [],
   "source": [
    "ROOT = Tk()\n",
    "ROOT.withdraw()\n",
    "global USER_INP\n",
    "USER_INP = StringVar()\n",
    "# the input dialog\n",
    "USER_INP = simpledialog.askstring(title=\"Raw S-H Peak File Name\",\n",
    "                                  prompt=\"What would you like the raw S-H Peak file to be called?\")\n",
    "ROOT.destroy()\n",
    "\n",
    "FotaGui = Tk()\n",
    "Browsebutton = Button(FotaGui,width = 15,text= \"Select\",command = file_path2)\n",
    "Browsebutton.pack()\n",
    "Generatebutton = Button(FotaGui,text=\"Generate\",command = generate2)\n",
    "Generatebutton.pack()\n",
    "newfilepathlabel = Label(FotaGui,text = \"File path:\",font = ('Times 10'))\n",
    "newfilepathlabel.pack()\n",
    "instructionslabel = Label(FotaGui,text = \"SELECT FOLDER TO SAVE S-H PEAK\",font = ('Times 13'))\n",
    "instructionslabel.pack()\n",
    "instructions2label = Label(FotaGui,text = \"Select folder in the new window by clicking Browse\",font = ('Times 10'))\n",
    "instructions2label.pack()\n",
    "instructions3label = Label(FotaGui,text = \"Then click generate, then done.\",font = ('Times 10'))\n",
    "instructions3label.pack()\n",
    "Donebutton = Button(FotaGui,text=\"Done\",command = FotaGui.destroy)\n",
    "Donebutton.pack()\n",
    "FotaGui.mainloop()\n",
    "\n",
    "fig3path = newfilepath+\"/\"+USER_INP+\".png\""
   ]
  },
  {
   "cell_type": "code",
   "execution_count": 43,
   "metadata": {},
   "outputs": [],
   "source": [
    "ROOT = Tk()\n",
    "ROOT.withdraw()\n",
    "global USER_INP\n",
    "USER_INP = StringVar()\n",
    "# the input dialog\n",
    "USER_INP = simpledialog.askstring(title=\"Raw S-S Peak File Name\",\n",
    "                                  prompt=\"What would you like the raw S-S Peak file to be called?\")\n",
    "ROOT.destroy()\n",
    "\n",
    "FotaGui = Tk()\n",
    "Browsebutton = Button(FotaGui,width = 15,text= \"Select\",command = file_path2)\n",
    "Browsebutton.pack()\n",
    "Generatebutton = Button(FotaGui,text=\"Generate\",command = generate2)\n",
    "Generatebutton.pack()\n",
    "newfilepathlabel = Label(FotaGui,text = \"File path:\",font = ('Times 10'))\n",
    "newfilepathlabel.pack()\n",
    "instructionslabel = Label(FotaGui,text = \"SELECT FOLDER TO SAVE S-S PEAK\",font = ('Times 13'))\n",
    "instructionslabel.pack()\n",
    "instructions2label = Label(FotaGui,text = \"Select folder in the new window by clicking Browse\",font = ('Times 10'))\n",
    "instructions2label.pack()\n",
    "instructions3label = Label(FotaGui,text = \"Then click generate, then done.\",font = ('Times 10'))\n",
    "instructions3label.pack()\n",
    "Donebutton = Button(FotaGui,text=\"Done\",command = FotaGui.destroy)\n",
    "Donebutton.pack()\n",
    "FotaGui.mainloop()\n",
    "\n",
    "fig4path = newfilepath+\"/\"+USER_INP+\".png\""
   ]
  },
  {
   "cell_type": "code",
   "execution_count": 44,
   "metadata": {},
   "outputs": [],
   "source": [
    "ROOT = Tk()\n",
    "ROOT.withdraw()\n",
    "global USER_INP\n",
    "USER_INP = StringVar()\n",
    "# the input dialog\n",
    "USER_INP = simpledialog.askstring(title=\"Baseline Corrected S-H Peak File Name\",\n",
    "                                  prompt=\"What would you like the baseline-corrected S-H Peak file to be called?\")\n",
    "ROOT.destroy()\n",
    "\n",
    "FotaGui = Tk()\n",
    "Browsebutton = Button(FotaGui,width = 15,text= \"Select\",command = file_path2)\n",
    "Browsebutton.pack()\n",
    "Generatebutton = Button(FotaGui,text=\"Generate\",command = generate2)\n",
    "Generatebutton.pack()\n",
    "newfilepathlabel = Label(FotaGui,text = \"File path:\",font = ('Times 10'))\n",
    "newfilepathlabel.pack()\n",
    "instructionslabel = Label(FotaGui,text = \"SELECT FOLDER TO SAVE BASELINE-CORRECTED S-H PEAK\",font = ('Times 13'))\n",
    "instructionslabel.pack()\n",
    "instructions2label = Label(FotaGui,text = \"Select folder in the new window by clicking Browse\",font = ('Times 10'))\n",
    "instructions2label.pack()\n",
    "instructions3label = Label(FotaGui,text = \"Then click generate, then done.\",font = ('Times 10'))\n",
    "instructions3label.pack()\n",
    "Donebutton = Button(FotaGui,text=\"Done\",command = FotaGui.destroy)\n",
    "Donebutton.pack()\n",
    "FotaGui.mainloop()\n",
    "\n",
    "fig5path = newfilepath+\"/\"+USER_INP+\".png\""
   ]
  },
  {
   "cell_type": "code",
   "execution_count": 45,
   "metadata": {},
   "outputs": [],
   "source": [
    "ROOT = Tk()\n",
    "ROOT.withdraw()\n",
    "global USER_INP\n",
    "USER_INP = StringVar()\n",
    "# the input dialog\n",
    "USER_INP = simpledialog.askstring(title=\"Baseline Corrected S-S Peak File Name\",\n",
    "                                  prompt=\"What would you like the baseline-corrected S-S Peak file to be called?\")\n",
    "ROOT.destroy()\n",
    "\n",
    "FotaGui = Tk()\n",
    "Browsebutton = Button(FotaGui,width = 15,text= \"Select\",command = file_path2)\n",
    "Browsebutton.pack()\n",
    "Generatebutton = Button(FotaGui,text=\"Generate\",command = generate2)\n",
    "Generatebutton.pack()\n",
    "newfilepathlabel = Label(FotaGui,text = \"File path:\",font = ('Times 10'))\n",
    "newfilepathlabel.pack()\n",
    "instructionslabel = Label(FotaGui,text = \"SELECT FOLDER TO SAVE BASELINE-CORRECTED S-S PEAK\",font = ('Times 13'))\n",
    "instructionslabel.pack()\n",
    "instructions2label = Label(FotaGui,text = \"Select folder in the new window by clicking Browse\",font = ('Times 10'))\n",
    "instructions2label.pack()\n",
    "instructions3label = Label(FotaGui,text = \"Then click generate, then done.\",font = ('Times 10'))\n",
    "instructions3label.pack()\n",
    "Donebutton = Button(FotaGui,text=\"Done\",command = FotaGui.destroy)\n",
    "Donebutton.pack()\n",
    "FotaGui.mainloop()\n",
    "\n",
    "fig6path = newfilepath+\"/\"+USER_INP+\".png\""
   ]
  },
  {
   "cell_type": "code",
   "execution_count": 46,
   "metadata": {},
   "outputs": [],
   "source": [
    "# Save the final graph files to the desired folder with the desired name, and at a high DPI for clarity\n",
    "fig1.savefig(fig1path,dpi=150)\n",
    "\n",
    "fig2.savefig(fig2path,dpi=150)\n",
    "\n",
    "fig3.savefig(fig3path,dpi=150)\n",
    "\n",
    "fig4.savefig(fig4path,dpi=150)\n",
    "\n",
    "fig5.savefig(fig5path,dpi=150)\n",
    "\n",
    "fig6.savefig(fig6path,dpi=150)\n",
    "\n",
    "# File saving code from: https://festivalmusicasacra.org/9524621/how-to-save-a-figure-in-matplotlib-by-its-variable-name\n",
    "# and: https://matplotlib.org/3.3.3/api/_as_gen/matplotlib.pyplot.savefig.html"
   ]
  }
 ],
 "metadata": {
  "kernelspec": {
   "display_name": "Python 3",
   "language": "python",
   "name": "python3"
  },
  "language_info": {
   "codemirror_mode": {
    "name": "ipython",
    "version": 3
   },
   "file_extension": ".py",
   "mimetype": "text/x-python",
   "name": "python",
   "nbconvert_exporter": "python",
   "pygments_lexer": "ipython3",
   "version": "3.8.5"
  }
 },
 "nbformat": 4,
 "nbformat_minor": 4
}
